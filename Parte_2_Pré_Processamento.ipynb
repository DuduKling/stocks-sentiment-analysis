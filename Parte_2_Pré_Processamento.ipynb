{
  "nbformat": 4,
  "nbformat_minor": 0,
  "metadata": {
    "colab": {
      "name": "Parte 2 - Pré Processamento.ipynb",
      "provenance": [],
      "collapsed_sections": [],
      "toc_visible": true
    },
    "kernelspec": {
      "display_name": "Python 3",
      "name": "python3"
    }
  },
  "cells": [
    {
      "cell_type": "markdown",
      "metadata": {
        "id": "KDv_7a0rJfFB"
      },
      "source": [
        "# Trabalho de conclusão de curso\n",
        "## Comparativo de análise de sentimentos em posts do Twitter/Reddit relacionados à Stocks"
      ]
    },
    {
      "cell_type": "markdown",
      "metadata": {
        "id": "eP-mJKv_6OY0"
      },
      "source": [
        "# Parte 2 - Pré-Processamento"
      ]
    },
    {
      "cell_type": "markdown",
      "metadata": {
        "id": "cuFxa2daKPM6"
      },
      "source": [
        "## Preparando ambiente"
      ]
    },
    {
      "cell_type": "code",
      "metadata": {
        "id": "PtNtDAABbSud",
        "colab": {
          "base_uri": "https://localhost:8080/"
        },
        "outputId": "76ae872a-311f-4fa4-caf5-8a89c901e5ca"
      },
      "source": [
        "# Helpers\n",
        "\n",
        "!pip install timely --quiet\n",
        "!pip install contractions --quiet"
      ],
      "execution_count": null,
      "outputs": [
        {
          "output_type": "stream",
          "text": [
            "  Building wheel for timely (setup.py) ... \u001b[?25l\u001b[?25hdone\n",
            "\u001b[K     |████████████████████████████████| 327kB 5.8MB/s \n",
            "\u001b[K     |████████████████████████████████| 266kB 29.0MB/s \n",
            "\u001b[?25h  Building wheel for pyahocorasick (setup.py) ... \u001b[?25l\u001b[?25hdone\n"
          ],
          "name": "stdout"
        }
      ]
    },
    {
      "cell_type": "code",
      "metadata": {
        "colab": {
          "base_uri": "https://localhost:8080/",
          "height": 33
        },
        "id": "d9XpCobuJdRt",
        "outputId": "55d5204c-a18f-4f2c-f70c-3945b6b26345"
      },
      "source": [
        "import math\n",
        "import pandas as pd\n",
        "\n",
        "from timely import Stopwatch\n",
        "from datetime import datetime, timedelta"
      ],
      "execution_count": null,
      "outputs": [
        {
          "output_type": "display_data",
          "data": {
            "text/plain": [
              "<Figure size 1728x1152 with 0 Axes>"
            ]
          },
          "metadata": {
            "tags": []
          }
        }
      ]
    },
    {
      "cell_type": "code",
      "metadata": {
        "colab": {
          "base_uri": "https://localhost:8080/"
        },
        "id": "Y5SGKTWbbsfO",
        "outputId": "c5eae54c-5715-4004-b232-736870eadc5a"
      },
      "source": [
        "# from google.colab import drive\n",
        "\n",
        "# drive.mount('/content/drive')"
      ],
      "execution_count": null,
      "outputs": [
        {
          "output_type": "stream",
          "text": [
            "Mounted at /content/drive\n"
          ],
          "name": "stdout"
        }
      ]
    },
    {
      "cell_type": "markdown",
      "metadata": {
        "id": "-bv3a8JcSoH3"
      },
      "source": [
        "## Pré-processamento dos dados"
      ]
    },
    {
      "cell_type": "code",
      "metadata": {
        "id": "8koLKjSq9Cr8"
      },
      "source": [
        "dfDados = pd.read_csv('tsla_2019_data.csv', index_col = 0)"
      ],
      "execution_count": null,
      "outputs": []
    },
    {
      "cell_type": "markdown",
      "metadata": {
        "id": "aWiOWWqPTX7P"
      },
      "source": [
        "### Básico"
      ]
    },
    {
      "cell_type": "code",
      "metadata": {
        "id": "n8XuHHn_Vb2A"
      },
      "source": [
        "import re\n",
        "import unicodedata\n",
        "from bs4 import BeautifulSoup"
      ],
      "execution_count": null,
      "outputs": []
    },
    {
      "cell_type": "code",
      "metadata": {
        "id": "kBxDIN_QS4qG"
      },
      "source": [
        "'''Remove especiais do twitter'''\n",
        "def remove_special_twitter(text):\n",
        "  text = re.sub(r'@[A-Za-z0-9_]+', '', text) # Remove mentions\n",
        "  text = re.sub(r'#', '', text) # Remove hashtags\n",
        "  text = re.sub(r'RT : ', '', text) # Remove retweets\n",
        "  return text\n",
        "\n",
        "'''Remove caracteres especiais'''\n",
        "def remove_special_characters(text, remove_digits=False):\n",
        "  special_char_pattern = re.compile(r'([{.(-)!}])')\n",
        "  text = special_char_pattern.sub(\" \\\\1 \", text)\n",
        "\n",
        "  pattern = r'[^a-zA-z0-9\\s]'\n",
        "  text = re.sub(pattern, '', text)\n",
        "  return text\n",
        "\n",
        "'''Remove acentos'''\n",
        "def remove_accent(text):\n",
        "  text = unicodedata.normalize('NFKD', text).encode('ascii', 'ignore').decode('utf-8', 'ignore')\n",
        "  return text\n",
        "\n",
        "'''Remove links'''\n",
        "def strip_html_tags(text):\n",
        "  text = re.sub(r\"http[s]?://\\S+\", \"\", text)\n",
        "  text = re.sub(r\"\\s+\", \" \", text)\n",
        "  soup = BeautifulSoup(text, \"html.parser\")\n",
        "  stripped_text = soup.get_text()\n",
        "  return stripped_text\n"
      ],
      "execution_count": null,
      "outputs": []
    },
    {
      "cell_type": "markdown",
      "metadata": {
        "id": "NFfg5OhVTckR"
      },
      "source": [
        "### Stop Words"
      ]
    },
    {
      "cell_type": "code",
      "metadata": {
        "colab": {
          "base_uri": "https://localhost:8080/"
        },
        "id": "UBNRAY03YxTQ",
        "outputId": "d1701a44-ca4b-4e32-b68f-318b37ee9022"
      },
      "source": [
        "import nltk\n",
        "import spacy\n",
        "\n",
        "from contractions import contractions_dict\n",
        "from nltk.tokenize.toktok import ToktokTokenizer\n",
        "\n",
        "tokenizer = ToktokTokenizer()\n",
        "nlp = spacy.load('en')\n",
        "\n",
        "nltk.download('stopwords')\n",
        "stopword_list = nltk.corpus.stopwords.words('english')"
      ],
      "execution_count": null,
      "outputs": [
        {
          "output_type": "stream",
          "text": [
            "[nltk_data] Downloading package stopwords to /root/nltk_data...\n",
            "[nltk_data]   Unzipping corpora/stopwords.zip.\n"
          ],
          "name": "stdout"
        }
      ]
    },
    {
      "cell_type": "code",
      "metadata": {
        "id": "xs42TWoeTegZ"
      },
      "source": [
        "'''Remove stopwords'''\n",
        "def remove_stopwords(text):\n",
        "  tokens = tokenizer.tokenize(text)\n",
        "  tokens = [token.strip() for token in tokens]\n",
        "  filtered_tokens = [token for token in tokens if token.lower() not in stopword_list]\n",
        "  filtered_text = ' '.join(filtered_tokens)\n",
        "  return filtered_text\n",
        "\n",
        "'''Lematização'''\n",
        "def lemmatize(text):\n",
        "  text = nlp(text)\n",
        "  text = ' '.join([word.lemma_ if word.lemma_ != '-PRON-' else word.text for word in text])\n",
        "  return text\n",
        "\n",
        "'''Stemming'''\n",
        "def stemmer(text):\n",
        "  ps = nltk.porter.PorterStemmer()\n",
        "  text = ' '.join([ps.stem(word) for word in text.split()])\n",
        "  return text\n",
        "\n",
        "'''Expande contrações'''\n",
        "def expand_contractions(text, contraction_mapping=contractions_dict):\n",
        "  contractions_pattern = re.compile('({})'.format('|'.join(contraction_mapping.keys())), flags=re.IGNORECASE | re.DOTALL)\n",
        "\n",
        "  def expand_match(contraction):\n",
        "    match = contraction.group(0)\n",
        "    first_char = match[0]\n",
        "    expanded_contraction = contraction_mapping.get(match) \\\n",
        "      if contraction_mapping.get(match) \\\n",
        "      else contraction_mapping.get(match.lower())\n",
        "    expanded_contraction = first_char + expanded_contraction[1:]\n",
        "    return expanded_contraction\n",
        "\n",
        "  try:\n",
        "    expanded_text = contractions_pattern.sub(expand_match, text)\n",
        "    expanded_text = re.sub(\"'\", \"\", expanded_text)\n",
        "  except:\n",
        "    return text\n",
        "  return expanded_text\n"
      ],
      "execution_count": null,
      "outputs": []
    },
    {
      "cell_type": "markdown",
      "metadata": {
        "id": "wHp2tNjFXWlE"
      },
      "source": [
        "### Limpeza completa"
      ]
    },
    {
      "cell_type": "code",
      "metadata": {
        "id": "taZLFse6XS9J"
      },
      "source": [
        "def clean(textlist):\n",
        "  cleanedTextList = []\n",
        "  for doc in textlist:\n",
        "    doc = re.sub(r'[\\r|\\n|\\r\\n]+', ' ', doc) # remove linhas em branco\n",
        "    doc = re.sub(' +', ' ', doc) # remove linhas em branco\n",
        "\n",
        "    doc = remove_special_twitter(doc) # remove especiais do twitter\n",
        "    doc = strip_html_tags(doc) # remove links\n",
        "    doc = remove_accent(doc) # remove acentuação\n",
        "    doc = remove_special_characters(doc) # remove caracteres especiais \n",
        "\n",
        "    doc = remove_stopwords(doc) # remove stopwords\n",
        "    doc = expand_contractions(doc) # expande contrações\n",
        "    # doc = stemmer(doc) # stemming\n",
        "    doc = lemmatize(doc) # lemmatização\n",
        "\n",
        "    doc = doc.lower() # texto em caixa baixa\n",
        "    doc = doc.strip() # remove espaços em branco iniciais e finais\n",
        "    doc = re.sub(r'\\s+', ' ', doc) # remove espaços em branco desnecessarios\n",
        "\n",
        "    cleanedTextList.append(doc)\n",
        "  return cleanedTextList"
      ],
      "execution_count": null,
      "outputs": []
    },
    {
      "cell_type": "code",
      "metadata": {
        "id": "YWb6_rvzvxvn"
      },
      "source": [
        "def dropRows(df):\n",
        "  # Remove duplicadas\n",
        "  df = df.drop_duplicates(subset = 'CleanText', keep = 'last')\n",
        "\n",
        "  # Remove textos em branco\n",
        "  df = df[df['CleanText'].str.strip().astype(bool)]\n",
        "\n",
        "  return df"
      ],
      "execution_count": null,
      "outputs": []
    },
    {
      "cell_type": "code",
      "metadata": {
        "id": "pHpyapdx9WIZ"
      },
      "source": [
        "def cleanAll(df):\n",
        "  with Stopwatch() as s:\n",
        "    df['CleanText'] = clean(df['Text'])\n",
        "    df = dropRows(df)\n",
        "  print(f'Took {s.duration()}\\n')\n",
        "\n",
        "  print(f'{df.shape}\\n')"
      ],
      "execution_count": null,
      "outputs": []
    },
    {
      "cell_type": "code",
      "metadata": {
        "colab": {
          "base_uri": "https://localhost:8080/",
          "height": 255
        },
        "id": "0Hwm2WRn9qEc",
        "outputId": "2e77559a-7647-4b9d-d48a-ff71fe2fc6e4"
      },
      "source": [
        "cleanAll(dfDados)\n",
        "dfDados.head()"
      ],
      "execution_count": null,
      "outputs": [
        {
          "output_type": "stream",
          "text": [
            "Took 6747.939933\n",
            "\n",
            "(590063, 5)\n",
            "\n"
          ],
          "name": "stdout"
        },
        {
          "output_type": "execute_result",
          "data": {
            "text/html": [
              "<div>\n",
              "<style scoped>\n",
              "    .dataframe tbody tr th:only-of-type {\n",
              "        vertical-align: middle;\n",
              "    }\n",
              "\n",
              "    .dataframe tbody tr th {\n",
              "        vertical-align: top;\n",
              "    }\n",
              "\n",
              "    .dataframe thead th {\n",
              "        text-align: right;\n",
              "    }\n",
              "</style>\n",
              "<table border=\"1\" class=\"dataframe\">\n",
              "  <thead>\n",
              "    <tr style=\"text-align: right;\">\n",
              "      <th></th>\n",
              "      <th>Created At</th>\n",
              "      <th>Name</th>\n",
              "      <th>Text</th>\n",
              "      <th>Source</th>\n",
              "      <th>CleanText</th>\n",
              "    </tr>\n",
              "  </thead>\n",
              "  <tbody>\n",
              "    <tr>\n",
              "      <th>0</th>\n",
              "      <td>2019-01-01 23:59:21</td>\n",
              "      <td>alexandrosM</td>\n",
              "      <td>Inspired by thoughts and info I read via @Valu...</td>\n",
              "      <td>Twitter</td>\n",
              "      <td>inspired thought info read via many tsla bull ...</td>\n",
              "    </tr>\n",
              "    <tr>\n",
              "      <th>1</th>\n",
              "      <td>2019-01-01 23:58:56</td>\n",
              "      <td>Trumpery45</td>\n",
              "      <td>@ShortingIsFun The road stress simulator at 36...</td>\n",
              "      <td>Twitter</td>\n",
              "      <td>road stress simulator 3625 thing beauty tesla ...</td>\n",
              "    </tr>\n",
              "    <tr>\n",
              "      <th>2</th>\n",
              "      <td>2019-01-01 23:58:20</td>\n",
              "      <td>certifiedlink_</td>\n",
              "      <td>@JTSEO9 tsla should have reported a going conc...</td>\n",
              "      <td>Twitter</td>\n",
              "      <td>tsla report go concern get jippe haha</td>\n",
              "    </tr>\n",
              "    <tr>\n",
              "      <th>3</th>\n",
              "      <td>2019-01-01 23:57:43</td>\n",
              "      <td>smartertrader</td>\n",
              "      <td>Tsla. Very simple trade. If they 352 gets rippy.</td>\n",
              "      <td>Twitter</td>\n",
              "      <td>tsla simple trade 352 get rippy</td>\n",
              "    </tr>\n",
              "    <tr>\n",
              "      <th>4</th>\n",
              "      <td>2019-01-01 23:57:20</td>\n",
              "      <td>ShortingIsFun</td>\n",
              "      <td>@kzdorman @Tesla @elonmusk What are people doi...</td>\n",
              "      <td>Twitter</td>\n",
              "      <td>people kill time total like 1 5 hour combine w...</td>\n",
              "    </tr>\n",
              "  </tbody>\n",
              "</table>\n",
              "</div>"
            ],
            "text/plain": [
              "           Created At  ...                                          CleanText\n",
              "0 2019-01-01 23:59:21  ...  inspired thought info read via many tsla bull ...\n",
              "1 2019-01-01 23:58:56  ...  road stress simulator 3625 thing beauty tesla ...\n",
              "2 2019-01-01 23:58:20  ...              tsla report go concern get jippe haha\n",
              "3 2019-01-01 23:57:43  ...                    tsla simple trade 352 get rippy\n",
              "4 2019-01-01 23:57:20  ...  people kill time total like 1 5 hour combine w...\n",
              "\n",
              "[5 rows x 5 columns]"
            ]
          },
          "metadata": {
            "tags": []
          },
          "execution_count": 78
        }
      ]
    },
    {
      "cell_type": "code",
      "metadata": {
        "id": "txIveiF-9YxM"
      },
      "source": [
        "dfDados.to_csv('tsla_2019_clean.csv')"
      ],
      "execution_count": null,
      "outputs": []
    }
  ]
}