{
  "nbformat": 4,
  "nbformat_minor": 0,
  "metadata": {
    "colab": {
      "name": "Parte 1 - Buscar dados.ipynb",
      "provenance": [],
      "collapsed_sections": [],
      "toc_visible": true
    },
    "kernelspec": {
      "display_name": "Python 3",
      "name": "python3"
    }
  },
  "cells": [
    {
      "cell_type": "markdown",
      "metadata": {
        "id": "KDv_7a0rJfFB"
      },
      "source": [
        "# Trabalho de conclusão de curso\n",
        "## Comparativo de análise de sentimentos em posts do Twitter/Reddit relacionados à Stocks"
      ]
    },
    {
      "cell_type": "markdown",
      "metadata": {
        "id": "-clCf9nY6L6w"
      },
      "source": [
        "# Parte 1 - Extração dos Dados"
      ]
    },
    {
      "cell_type": "markdown",
      "metadata": {
        "id": "cuFxa2daKPM6"
      },
      "source": [
        "## Preparando ambiente"
      ]
    },
    {
      "cell_type": "code",
      "metadata": {
        "id": "PtNtDAABbSud",
        "colab": {
          "base_uri": "https://localhost:8080/"
        },
        "outputId": "76ae872a-311f-4fa4-caf5-8a89c901e5ca"
      },
      "source": [
        "# Helpers\n",
        "\n",
        "!pip install timely --quiet"
      ],
      "execution_count": null,
      "outputs": [
        {
          "output_type": "stream",
          "text": [
            "  Building wheel for timely (setup.py) ... \u001b[?25l\u001b[?25hdone\n",
            "\u001b[K     |████████████████████████████████| 327kB 5.8MB/s \n",
            "\u001b[K     |████████████████████████████████| 266kB 29.0MB/s \n",
            "\u001b[?25h  Building wheel for pyahocorasick (setup.py) ... \u001b[?25l\u001b[?25hdone\n"
          ],
          "name": "stdout"
        }
      ]
    },
    {
      "cell_type": "code",
      "metadata": {
        "id": "CGPJUsFvbUIP"
      },
      "source": [
        "# Extractors\n",
        "\n",
        "# !pip install praw --quiet\n",
        "!pip install psaw --quiet\n",
        "\n",
        "try: # Gambiarra para instalação do twint que está com problemas e aida não foi resolvido\n",
        "  import twint\n",
        "except ImportError:\n",
        "  errorText = 'RUNTIME WILL STOP.. PLEASE RUN AGAIN!!'\n",
        "  print(f'\\n\\x1b[31m{errorText}\\x1b[0m\\n')\n",
        "\n",
        "  # !pip3 install twint\n",
        "  # !pip3 uninstall -y twint\n",
        "  !pip3 install --user --upgrade git+https://github.com/twintproject/twint.git@master --quiet\n",
        "\n",
        "  import os\n",
        "  os.kill(os.getpid(), 9)"
      ],
      "execution_count": null,
      "outputs": []
    },
    {
      "cell_type": "code",
      "metadata": {
        "colab": {
          "base_uri": "https://localhost:8080/",
          "height": 33
        },
        "id": "d9XpCobuJdRt",
        "outputId": "55d5204c-a18f-4f2c-f70c-3945b6b26345"
      },
      "source": [
        "import math\n",
        "import pandas as pd\n",
        "import matplotlib.pyplot as plt\n",
        "\n",
        "from timely import Stopwatch\n",
        "from datetime import datetime, timedelta"
      ],
      "execution_count": null,
      "outputs": [
        {
          "output_type": "display_data",
          "data": {
            "text/plain": [
              "<Figure size 1728x1152 with 0 Axes>"
            ]
          },
          "metadata": {
            "tags": []
          }
        }
      ]
    },
    {
      "cell_type": "code",
      "metadata": {
        "colab": {
          "base_uri": "https://localhost:8080/"
        },
        "id": "Y5SGKTWbbsfO",
        "outputId": "c5eae54c-5715-4004-b232-736870eadc5a"
      },
      "source": [
        "# from google.colab import drive\n",
        "\n",
        "# drive.mount('/content/drive')"
      ],
      "execution_count": null,
      "outputs": [
        {
          "output_type": "stream",
          "text": [
            "Mounted at /content/drive\n"
          ],
          "name": "stdout"
        }
      ]
    },
    {
      "cell_type": "code",
      "metadata": {
        "id": "njMspIcZY3Jr"
      },
      "source": [
        "# def getCredentials(credentialsFile):\n",
        "#   d = {}\n",
        "#   with open(credentialsFile) as file:\n",
        "#     for line in file:\n",
        "\n",
        "#       (key, val) = line.split(sep='=')\n",
        "#       d[key.strip().replace(' ', '_').upper()] = val.strip()\n",
        "#   return d\n",
        "\n",
        "# credentials = getCredentials('/content/drive/MyDrive/credentials.txt')\n",
        "# # !cat /content/drive/MyDrive/credentials.txt"
      ],
      "execution_count": null,
      "outputs": []
    },
    {
      "cell_type": "code",
      "metadata": {
        "id": "ydZsnWhB1I-K"
      },
      "source": [
        "# Constants\n",
        "SEARCH_STRING = 'TSLA'\n",
        "SEARCH_LIMIT = 10000\n",
        "SEARCH_LANG = 'en'\n",
        "\n",
        "# Dates\n",
        "SEARCH_DATE = datetime.today().replace(minute = 0, hour = 0, second = 0, microsecond = 0)\n",
        "SEARCH_DATE_DAYS_BEFORE = timedelta(days = 90)\n",
        "SEARCH_DATE_SINCE = SEARCH_DATE - SEARCH_DATE_DAYS_BEFORE;\n",
        "\n",
        "# Other\n",
        "# REDDIT_SUB = 'wallstreetbets'"
      ],
      "execution_count": null,
      "outputs": []
    },
    {
      "cell_type": "markdown",
      "metadata": {
        "id": "PjSL8OwCPTkk"
      },
      "source": [
        "## Buscando dados\n",
        "\n",
        "* Twitter:\n",
        "  * [Tweepy](https://docs.tweepy.org/en/latest/index.html) *: Twitter API for Python;\n",
        "  * [Twint](https://github.com/twintproject/twint): Advanced Twitter scraping tool written in Python that allows for scraping Tweets from Twitter profiles without using Twitter's API;\n",
        "* Reddit:\n",
        "  * [PRAW](https://praw.readthedocs.io/en/latest/) *: The Python Reddit API Wrapper;\n",
        "  * [PSAW](https://pypi.org/project/psaw/): A minimalist wrapper for searching public reddit comments/submissions via the pushshift.io API;\n",
        "  * [BigQuery](https://console.cloud.google.com/bigquery/) *: Dataset fh-bigquery:reddit_comments. (The first 1 TB of query data processed per month is free).\n",
        "\n",
        "\\* Não está sendo utilizado, código comentado.\n",
        "\n"
      ]
    },
    {
      "cell_type": "markdown",
      "metadata": {
        "id": "9pZiE762MLVO"
      },
      "source": [
        "### Twitter"
      ]
    },
    {
      "cell_type": "markdown",
      "metadata": {
        "id": "zbCwsdoeQfNg"
      },
      "source": [
        "#### \\\\\\\\ Tweepy"
      ]
    },
    {
      "cell_type": "code",
      "metadata": {
        "id": "A7SzB9TDVaKl"
      },
      "source": [
        "# import tweepy # Tweepy - Python library for accessing the Twitter API."
      ],
      "execution_count": null,
      "outputs": []
    },
    {
      "cell_type": "code",
      "metadata": {
        "id": "OWqORT4pJclV"
      },
      "source": [
        "# consumer_key = credentials['TWITTER_API_KEY']\n",
        "# consumer_secret = credentials['TWITTER_API_KEY_SECRET']\n",
        "# access_token = credentials['TWITTER_ACCESS_TOKEN']\n",
        "# access_token_secret = credentials['TWITTER_ACCESS_TOKEN_SECRET']\n",
        "\n",
        "# auth = tweepy.OAuthHandler(consumer_key, consumer_secret)\n",
        "# auth.set_access_token(access_token, access_token_secret)\n",
        "# tweepyAPI = tweepy.API(auth, wait_on_rate_limit = True)"
      ],
      "execution_count": null,
      "outputs": []
    },
    {
      "cell_type": "code",
      "metadata": {
        "id": "_AFWp4YxZHNN"
      },
      "source": [
        "# qtd = SEARCH_LIMIT\n",
        "\n",
        "# tweets = tweepy.Cursor(\n",
        "#   tweepyAPI.search,\n",
        "#   q = SEARCH_STRING,\n",
        "#   lang = SEARCH_LANG,\n",
        "#   count = qtd,\n",
        "#   result_type = 'recent',\n",
        "#   # until = 'YYYY-MM-DD', # Keep in mind that the search index has a 7-day limit. In other words, no tweets will be found for a date older than one week.\n",
        "#   include_entities = False,\n",
        "# ).items(qtd)"
      ],
      "execution_count": null,
      "outputs": []
    },
    {
      "cell_type": "code",
      "metadata": {
        "colab": {
          "base_uri": "https://localhost:8080/"
        },
        "id": "WZje8a6Va5yo",
        "outputId": "718a936c-b18b-49b6-c1aa-a1bdff1e1341"
      },
      "source": [
        "# with Stopwatch() as s:\n",
        "#   tweetsList = [[tweet.created_at, tweet.user.screen_name, tweet.text] for tweet in tweets]\n",
        "#   dfTweepy = pd.DataFrame(tweetsList, columns=['Created At', 'Name', 'Text'])\n",
        "# print(f'Took {s.duration()}\\n')"
      ],
      "execution_count": null,
      "outputs": [
        {
          "output_type": "stream",
          "text": [
            "162.970051\n"
          ],
          "name": "stdout"
        }
      ]
    },
    {
      "cell_type": "code",
      "metadata": {
        "colab": {
          "base_uri": "https://localhost:8080/"
        },
        "id": "yrjm1EMlMeEE",
        "outputId": "0298e25f-be9a-455b-fd69-b07084939d4c"
      },
      "source": [
        "# dfTweepy.shape"
      ],
      "execution_count": null,
      "outputs": [
        {
          "output_type": "execute_result",
          "data": {
            "text/plain": [
              "(10000, 3)"
            ]
          },
          "metadata": {
            "tags": []
          },
          "execution_count": 9
        }
      ]
    },
    {
      "cell_type": "code",
      "metadata": {
        "colab": {
          "base_uri": "https://localhost:8080/",
          "height": 189
        },
        "id": "gXMuPkJwIYxv",
        "outputId": "34fbb488-a396-48f0-f39f-31c46ecde043"
      },
      "source": [
        "# dfTweepy.head()"
      ],
      "execution_count": null,
      "outputs": [
        {
          "output_type": "execute_result",
          "data": {
            "text/html": [
              "<div>\n",
              "<style scoped>\n",
              "    .dataframe tbody tr th:only-of-type {\n",
              "        vertical-align: middle;\n",
              "    }\n",
              "\n",
              "    .dataframe tbody tr th {\n",
              "        vertical-align: top;\n",
              "    }\n",
              "\n",
              "    .dataframe thead th {\n",
              "        text-align: right;\n",
              "    }\n",
              "</style>\n",
              "<table border=\"1\" class=\"dataframe\">\n",
              "  <thead>\n",
              "    <tr style=\"text-align: right;\">\n",
              "      <th></th>\n",
              "      <th>Creaated At</th>\n",
              "      <th>Name</th>\n",
              "      <th>Text</th>\n",
              "    </tr>\n",
              "  </thead>\n",
              "  <tbody>\n",
              "    <tr>\n",
              "      <th>0</th>\n",
              "      <td>2021-03-04 20:09:43</td>\n",
              "      <td>PlutoTradez</td>\n",
              "      <td>Buying $GME dips in my spare time</td>\n",
              "    </tr>\n",
              "    <tr>\n",
              "      <th>1</th>\n",
              "      <td>2021-03-04 20:09:39</td>\n",
              "      <td>Mahjestea_</td>\n",
              "      <td>#Stonks will be in the Oxford dictionary and I...</td>\n",
              "    </tr>\n",
              "    <tr>\n",
              "      <th>2</th>\n",
              "      <td>2021-03-04 20:09:38</td>\n",
              "      <td>Blaze2408</td>\n",
              "      <td>@mcuban Everyone post and shout out and tag ev...</td>\n",
              "    </tr>\n",
              "    <tr>\n",
              "      <th>3</th>\n",
              "      <td>2021-03-04 20:09:36</td>\n",
              "      <td>FrancoisLuciano</td>\n",
              "      <td>And now the power hour starts $GME $AMC</td>\n",
              "    </tr>\n",
              "    <tr>\n",
              "      <th>4</th>\n",
              "      <td>2021-03-04 20:09:32</td>\n",
              "      <td>doge2mooon</td>\n",
              "      <td>I ain’t sorry anymore for that shitty company,...</td>\n",
              "    </tr>\n",
              "  </tbody>\n",
              "</table>\n",
              "</div>"
            ],
            "text/plain": [
              "          Creaated At  ...                                               Text\n",
              "0 2021-03-04 20:09:43  ...                  Buying $GME dips in my spare time\n",
              "1 2021-03-04 20:09:39  ...  #Stonks will be in the Oxford dictionary and I...\n",
              "2 2021-03-04 20:09:38  ...  @mcuban Everyone post and shout out and tag ev...\n",
              "3 2021-03-04 20:09:36  ...            And now the power hour starts $GME $AMC\n",
              "4 2021-03-04 20:09:32  ...  I ain’t sorry anymore for that shitty company,...\n",
              "\n",
              "[5 rows x 3 columns]"
            ]
          },
          "metadata": {
            "tags": []
          },
          "execution_count": 10
        }
      ]
    },
    {
      "cell_type": "code",
      "metadata": {
        "colab": {
          "base_uri": "https://localhost:8080/",
          "height": 189
        },
        "id": "akxQboTmOSrO",
        "outputId": "0265711d-a292-4b8d-f3e3-e484cefeae79"
      },
      "source": [
        "# dfTweepy.tail()"
      ],
      "execution_count": null,
      "outputs": [
        {
          "output_type": "execute_result",
          "data": {
            "text/html": [
              "<div>\n",
              "<style scoped>\n",
              "    .dataframe tbody tr th:only-of-type {\n",
              "        vertical-align: middle;\n",
              "    }\n",
              "\n",
              "    .dataframe tbody tr th {\n",
              "        vertical-align: top;\n",
              "    }\n",
              "\n",
              "    .dataframe thead th {\n",
              "        text-align: right;\n",
              "    }\n",
              "</style>\n",
              "<table border=\"1\" class=\"dataframe\">\n",
              "  <thead>\n",
              "    <tr style=\"text-align: right;\">\n",
              "      <th></th>\n",
              "      <th>Creaated At</th>\n",
              "      <th>Name</th>\n",
              "      <th>Text</th>\n",
              "    </tr>\n",
              "  </thead>\n",
              "  <tbody>\n",
              "    <tr>\n",
              "      <th>9995</th>\n",
              "      <td>2021-03-03 21:58:36</td>\n",
              "      <td>petenajarian</td>\n",
              "      <td>RT @MarketRebels: Melvin Capital posts gains o...</td>\n",
              "    </tr>\n",
              "    <tr>\n",
              "      <th>9996</th>\n",
              "      <td>2021-03-03 21:58:34</td>\n",
              "      <td>703JV</td>\n",
              "      <td>@pnani456 They are going to make a killing fro...</td>\n",
              "    </tr>\n",
              "    <tr>\n",
              "      <th>9997</th>\n",
              "      <td>2021-03-03 21:58:29</td>\n",
              "      <td>MarketRebels</td>\n",
              "      <td>Melvin Capital posts gains of over 22% in Febr...</td>\n",
              "    </tr>\n",
              "    <tr>\n",
              "      <th>9998</th>\n",
              "      <td>2021-03-03 21:58:26</td>\n",
              "      <td>DickTugging</td>\n",
              "      <td>Again ignore our grammar, we are all over hedg...</td>\n",
              "    </tr>\n",
              "    <tr>\n",
              "      <th>9999</th>\n",
              "      <td>2021-03-03 21:58:20</td>\n",
              "      <td>MetatraderRobot</td>\n",
              "      <td>RT @ItaBull: @GRDecter Or a $GME ape</td>\n",
              "    </tr>\n",
              "  </tbody>\n",
              "</table>\n",
              "</div>"
            ],
            "text/plain": [
              "             Creaated At  ...                                               Text\n",
              "9995 2021-03-03 21:58:36  ...  RT @MarketRebels: Melvin Capital posts gains o...\n",
              "9996 2021-03-03 21:58:34  ...  @pnani456 They are going to make a killing fro...\n",
              "9997 2021-03-03 21:58:29  ...  Melvin Capital posts gains of over 22% in Febr...\n",
              "9998 2021-03-03 21:58:26  ...  Again ignore our grammar, we are all over hedg...\n",
              "9999 2021-03-03 21:58:20  ...               RT @ItaBull: @GRDecter Or a $GME ape\n",
              "\n",
              "[5 rows x 3 columns]"
            ]
          },
          "metadata": {
            "tags": []
          },
          "execution_count": 11
        }
      ]
    },
    {
      "cell_type": "markdown",
      "metadata": {
        "id": "5hv6l8y-RHDi"
      },
      "source": [
        "#### Twint"
      ]
    },
    {
      "cell_type": "code",
      "metadata": {
        "id": "9oPcY5LWRZfH"
      },
      "source": [
        "import nest_asyncio\n",
        "nest_asyncio.apply()\n",
        "\n",
        "import twint\n",
        "tc = twint.Config()"
      ],
      "execution_count": null,
      "outputs": []
    },
    {
      "cell_type": "code",
      "metadata": {
        "id": "VSDz2HrO0K5G"
      },
      "source": [
        "tc.Search = SEARCH_STRING\n",
        "# tc.Limit = SEARCH_LIMIT\n",
        "tc.Lang = SEARCH_LANG\n",
        "tc.Pandas = True\n",
        "tc.Hide_output = True\n",
        "tc.Filter_retweets = True\n",
        "\n",
        "# tc.Since = SEARCH_DATE_SINCE.strftime('%Y-%m-%d %H:%M:%S')\n",
        "# tc.Until = SEARCH_DATE.strftime('%Y-%m-%d %H:%M:%S')"
      ],
      "execution_count": null,
      "outputs": []
    },
    {
      "cell_type": "code",
      "metadata": {
        "colab": {
          "base_uri": "https://localhost:8080/"
        },
        "id": "YRM9gYlbRtzE",
        "outputId": "88a2d714-599c-4b99-9d7c-b19722ec6075"
      },
      "source": [
        "# # One-time\n",
        "# with Stopwatch() as s:\n",
        "#   twint.run.Search(tc)\n",
        "#   twintTmp = twint.storage.panda.Tweets_df\n",
        "# print(f'Took {s.duration()}\\n')"
      ],
      "execution_count": null,
      "outputs": [
        {
          "output_type": "stream",
          "text": [
            "[!] No more data! Scraping will stop now.\n",
            "found 0 deleted tweets in this search.\n",
            "Took 115.748806\n",
            "\n"
          ],
          "name": "stdout"
        }
      ]
    },
    {
      "cell_type": "code",
      "metadata": {
        "id": "zkEapK016Ilg"
      },
      "source": [
        "startDate = datetime(2019, 1, 1)\n",
        "endDate = datetime(2019, 12, 31)\n",
        "# endDate = datetime(2019, 1, 30)\n",
        "deltaDate = timedelta(days = 1)\n",
        "\n",
        "twintColumns = ['date', 'username', 'tweet']\n",
        "dfTwint = pd.DataFrame(columns = twintColumns)"
      ],
      "execution_count": null,
      "outputs": []
    },
    {
      "cell_type": "code",
      "metadata": {
        "id": "8RhaiWea64Hl"
      },
      "source": [
        "# Loop\n",
        "with Stopwatch() as s:\n",
        "  print('Iniciando..')\n",
        "\n",
        "  while startDate <= endDate:\n",
        "    tc.Since = startDate.replace(minute = 0, hour = 0, second = 0, microsecond = 0).strftime('%Y-%m-%d %H:%M:%S')\n",
        "    tc.Until = startDate.replace(minute = 59, hour = 23, second = 59, microsecond = 0).strftime('%Y-%m-%d %H:%M:%S')\n",
        "\n",
        "    print(f'\\n{tc.Since}:')\n",
        "\n",
        "    twint.run.Search(tc)\n",
        "\n",
        "    twintTmp = twint.storage.panda.Tweets_df\n",
        "\n",
        "    if not twintTmp.empty:\n",
        "      twintTmp = twintTmp[twintColumns]\n",
        "      dfTwint = dfTwint.append(twintTmp)\n",
        "    \n",
        "    startDate += deltaDate\n",
        "print(f'Took {s.duration()}\\n')"
      ],
      "execution_count": null,
      "outputs": []
    },
    {
      "cell_type": "code",
      "metadata": {
        "id": "n9gO7FQqZ4tp"
      },
      "source": [
        "# dfTwint.to_csv('twint_tsla_2019.csv')\n",
        "# dfTwint = pd.read_csv('twint_tsla_2019.csv', lineterminator = '\\n', sep = ',', index_col = 0)"
      ],
      "execution_count": null,
      "outputs": []
    },
    {
      "cell_type": "code",
      "metadata": {
        "colab": {
          "base_uri": "https://localhost:8080/"
        },
        "id": "ihilh0Gn-d5m",
        "outputId": "5d371d4e-5273-4fca-cbce-d1ed01d096dd"
      },
      "source": [
        "dfTwint.shape"
      ],
      "execution_count": null,
      "outputs": [
        {
          "output_type": "execute_result",
          "data": {
            "text/plain": [
              "(530650, 3)"
            ]
          },
          "metadata": {
            "tags": []
          },
          "execution_count": 55
        }
      ]
    },
    {
      "cell_type": "code",
      "metadata": {
        "colab": {
          "base_uri": "https://localhost:8080/",
          "height": 189
        },
        "id": "hyieN02r0NFg",
        "outputId": "b848f8e3-43c4-4572-a979-8acd4414b288"
      },
      "source": [
        "dfTwint = dfTwint.rename(columns = {'date': 'Created At', 'username': 'Name', 'tweet': 'Text'})\n",
        "dfTwint.head()"
      ],
      "execution_count": null,
      "outputs": [
        {
          "output_type": "execute_result",
          "data": {
            "text/html": [
              "<div>\n",
              "<style scoped>\n",
              "    .dataframe tbody tr th:only-of-type {\n",
              "        vertical-align: middle;\n",
              "    }\n",
              "\n",
              "    .dataframe tbody tr th {\n",
              "        vertical-align: top;\n",
              "    }\n",
              "\n",
              "    .dataframe thead th {\n",
              "        text-align: right;\n",
              "    }\n",
              "</style>\n",
              "<table border=\"1\" class=\"dataframe\">\n",
              "  <thead>\n",
              "    <tr style=\"text-align: right;\">\n",
              "      <th></th>\n",
              "      <th>Created At</th>\n",
              "      <th>Name</th>\n",
              "      <th>Text</th>\n",
              "    </tr>\n",
              "  </thead>\n",
              "  <tbody>\n",
              "    <tr>\n",
              "      <th>0</th>\n",
              "      <td>2019-01-01 23:59:21</td>\n",
              "      <td>alexandrosM</td>\n",
              "      <td>Inspired by thoughts and info I read via @Valu...</td>\n",
              "    </tr>\n",
              "    <tr>\n",
              "      <th>1</th>\n",
              "      <td>2019-01-01 23:58:56</td>\n",
              "      <td>Trumpery45</td>\n",
              "      <td>@ShortingIsFun The road stress simulator at 36...</td>\n",
              "    </tr>\n",
              "    <tr>\n",
              "      <th>2</th>\n",
              "      <td>2019-01-01 23:58:20</td>\n",
              "      <td>certifiedlink_</td>\n",
              "      <td>@JTSEO9 tsla should have reported a going conc...</td>\n",
              "    </tr>\n",
              "    <tr>\n",
              "      <th>3</th>\n",
              "      <td>2019-01-01 23:57:43</td>\n",
              "      <td>smartertrader</td>\n",
              "      <td>Tsla. Very simple trade. If they 352 gets rippy.</td>\n",
              "    </tr>\n",
              "    <tr>\n",
              "      <th>4</th>\n",
              "      <td>2019-01-01 23:57:20</td>\n",
              "      <td>ShortingIsFun</td>\n",
              "      <td>@kzdorman @Tesla @elonmusk What are people doi...</td>\n",
              "    </tr>\n",
              "  </tbody>\n",
              "</table>\n",
              "</div>"
            ],
            "text/plain": [
              "            Created At  ...                                               Text\n",
              "0  2019-01-01 23:59:21  ...  Inspired by thoughts and info I read via @Valu...\n",
              "1  2019-01-01 23:58:56  ...  @ShortingIsFun The road stress simulator at 36...\n",
              "2  2019-01-01 23:58:20  ...  @JTSEO9 tsla should have reported a going conc...\n",
              "3  2019-01-01 23:57:43  ...   Tsla. Very simple trade. If they 352 gets rippy.\n",
              "4  2019-01-01 23:57:20  ...  @kzdorman @Tesla @elonmusk What are people doi...\n",
              "\n",
              "[5 rows x 3 columns]"
            ]
          },
          "metadata": {
            "tags": []
          },
          "execution_count": 56
        }
      ]
    },
    {
      "cell_type": "code",
      "metadata": {
        "colab": {
          "base_uri": "https://localhost:8080/"
        },
        "id": "iIVTZ0frdEr2",
        "outputId": "4be287c3-9eec-400d-e4f5-4e2c53895f1a"
      },
      "source": [
        "dfTwint['Created At'] = pd.to_datetime(dfTwint['Created At'])\n",
        "dfTwint.groupby([dfTwint['Created At'].dt.date])['Text'].count()"
      ],
      "execution_count": null,
      "outputs": [
        {
          "output_type": "execute_result",
          "data": {
            "text/plain": [
              "Created At\n",
              "2019-01-01     647\n",
              "2019-01-02    2486\n",
              "2019-01-03    1593\n",
              "2019-01-04    1306\n",
              "2019-01-05     656\n",
              "              ... \n",
              "2019-12-27    1961\n",
              "2019-12-28     877\n",
              "2019-12-29     898\n",
              "2019-12-30    1993\n",
              "2019-12-31    1603\n",
              "Name: Text, Length: 365, dtype: int64"
            ]
          },
          "metadata": {
            "tags": []
          },
          "execution_count": 57
        }
      ]
    },
    {
      "cell_type": "code",
      "metadata": {
        "colab": {
          "base_uri": "https://localhost:8080/",
          "height": 189
        },
        "id": "q9-uwFPcuLW-",
        "outputId": "3446d376-1bc1-4d2f-cfa5-0d7263e49f5b"
      },
      "source": [
        "dfTwint.head()"
      ],
      "execution_count": null,
      "outputs": [
        {
          "output_type": "execute_result",
          "data": {
            "text/html": [
              "<div>\n",
              "<style scoped>\n",
              "    .dataframe tbody tr th:only-of-type {\n",
              "        vertical-align: middle;\n",
              "    }\n",
              "\n",
              "    .dataframe tbody tr th {\n",
              "        vertical-align: top;\n",
              "    }\n",
              "\n",
              "    .dataframe thead th {\n",
              "        text-align: right;\n",
              "    }\n",
              "</style>\n",
              "<table border=\"1\" class=\"dataframe\">\n",
              "  <thead>\n",
              "    <tr style=\"text-align: right;\">\n",
              "      <th></th>\n",
              "      <th>Created At</th>\n",
              "      <th>Name</th>\n",
              "      <th>Text</th>\n",
              "    </tr>\n",
              "  </thead>\n",
              "  <tbody>\n",
              "    <tr>\n",
              "      <th>0</th>\n",
              "      <td>2019-01-01 23:59:21</td>\n",
              "      <td>alexandrosM</td>\n",
              "      <td>Inspired by thoughts and info I read via @Valu...</td>\n",
              "    </tr>\n",
              "    <tr>\n",
              "      <th>1</th>\n",
              "      <td>2019-01-01 23:58:56</td>\n",
              "      <td>Trumpery45</td>\n",
              "      <td>@ShortingIsFun The road stress simulator at 36...</td>\n",
              "    </tr>\n",
              "    <tr>\n",
              "      <th>2</th>\n",
              "      <td>2019-01-01 23:58:20</td>\n",
              "      <td>certifiedlink_</td>\n",
              "      <td>@JTSEO9 tsla should have reported a going conc...</td>\n",
              "    </tr>\n",
              "    <tr>\n",
              "      <th>3</th>\n",
              "      <td>2019-01-01 23:57:43</td>\n",
              "      <td>smartertrader</td>\n",
              "      <td>Tsla. Very simple trade. If they 352 gets rippy.</td>\n",
              "    </tr>\n",
              "    <tr>\n",
              "      <th>4</th>\n",
              "      <td>2019-01-01 23:57:20</td>\n",
              "      <td>ShortingIsFun</td>\n",
              "      <td>@kzdorman @Tesla @elonmusk What are people doi...</td>\n",
              "    </tr>\n",
              "  </tbody>\n",
              "</table>\n",
              "</div>"
            ],
            "text/plain": [
              "           Created At  ...                                               Text\n",
              "0 2019-01-01 23:59:21  ...  Inspired by thoughts and info I read via @Valu...\n",
              "1 2019-01-01 23:58:56  ...  @ShortingIsFun The road stress simulator at 36...\n",
              "2 2019-01-01 23:58:20  ...  @JTSEO9 tsla should have reported a going conc...\n",
              "3 2019-01-01 23:57:43  ...   Tsla. Very simple trade. If they 352 gets rippy.\n",
              "4 2019-01-01 23:57:20  ...  @kzdorman @Tesla @elonmusk What are people doi...\n",
              "\n",
              "[5 rows x 3 columns]"
            ]
          },
          "metadata": {
            "tags": []
          },
          "execution_count": 47
        }
      ]
    },
    {
      "cell_type": "markdown",
      "metadata": {
        "id": "9SjlP3iAMQQ2"
      },
      "source": [
        "### Reddit"
      ]
    },
    {
      "cell_type": "markdown",
      "metadata": {
        "id": "G5e-_GYdHQKj"
      },
      "source": [
        "#### \\\\\\\\ PRAW"
      ]
    },
    {
      "cell_type": "code",
      "metadata": {
        "id": "xf-HP80gHUIn"
      },
      "source": [
        "# import praw"
      ],
      "execution_count": null,
      "outputs": []
    },
    {
      "cell_type": "code",
      "metadata": {
        "id": "C5gkqaW9Jrz1"
      },
      "source": [
        "# reddit = praw.Reddit(\n",
        "#   client_id = credentials['REDDIT_CLIENT_ID'],\n",
        "#   client_secret = credentials['REDDIT_SECRET'],\n",
        "#   user_agent = \"tcc-bi-master-0.1\"\n",
        "# )"
      ],
      "execution_count": null,
      "outputs": []
    },
    {
      "cell_type": "code",
      "metadata": {
        "colab": {
          "base_uri": "https://localhost:8080/"
        },
        "id": "XjMbjB-9Hiot",
        "outputId": "8380df28-f7d6-4304-9f51-1ddf9d3d72ce"
      },
      "source": [
        "# with Stopwatch() as s:\n",
        "#   submissions = reddit.subreddit(REDDIT_SUB).search(\n",
        "#     SEARCH_STRING,\n",
        "#     sort = 'new'\n",
        "#   )\n",
        "# print(f'Took {s.duration()}\\n')"
      ],
      "execution_count": null,
      "outputs": [
        {
          "output_type": "stream",
          "text": [
            "0.000179\n"
          ],
          "name": "stdout"
        }
      ]
    },
    {
      "cell_type": "code",
      "metadata": {
        "colab": {
          "base_uri": "https://localhost:8080/",
          "height": 255
        },
        "id": "m_Bfhf7VNl-I",
        "outputId": "7f6a22c7-bf76-495d-d424-3e7c9e4a7a9a"
      },
      "source": [
        "# prawRows = [[submission.created_utc, submission.author, submission.title] for submission in submissions]\n",
        "# dfPraw = pd.DataFrame(prawRows, columns = ['Created At', 'Name', 'Text'])\n",
        "\n",
        "# dfPraw.head()"
      ],
      "execution_count": null,
      "outputs": [
        {
          "output_type": "stream",
          "text": [
            "It appears that you are using PRAW in an asynchronous environment.\n",
            "It is strongly recommended to use Async PRAW: https://asyncpraw.readthedocs.io.\n",
            "See https://praw.readthedocs.io/en/latest/getting_started/multiple_instances.html#discord-bots-and-asynchronous-environments for more info.\n",
            "\n"
          ],
          "name": "stderr"
        },
        {
          "output_type": "execute_result",
          "data": {
            "text/html": [
              "<div>\n",
              "<style scoped>\n",
              "    .dataframe tbody tr th:only-of-type {\n",
              "        vertical-align: middle;\n",
              "    }\n",
              "\n",
              "    .dataframe tbody tr th {\n",
              "        vertical-align: top;\n",
              "    }\n",
              "\n",
              "    .dataframe thead th {\n",
              "        text-align: right;\n",
              "    }\n",
              "</style>\n",
              "<table border=\"1\" class=\"dataframe\">\n",
              "  <thead>\n",
              "    <tr style=\"text-align: right;\">\n",
              "      <th></th>\n",
              "      <th>Created At</th>\n",
              "      <th>Name</th>\n",
              "      <th>Text</th>\n",
              "    </tr>\n",
              "  </thead>\n",
              "  <tbody>\n",
              "    <tr>\n",
              "      <th>0</th>\n",
              "      <td>1.615052e+09</td>\n",
              "      <td>OwenOnReddit</td>\n",
              "      <td>CONMEBOL have suspended World Cup qualifiers f...</td>\n",
              "    </tr>\n",
              "    <tr>\n",
              "      <th>1</th>\n",
              "      <td>1.615026e+09</td>\n",
              "      <td>AdoroQueques</td>\n",
              "      <td>How's Alex Telles?</td>\n",
              "    </tr>\n",
              "    <tr>\n",
              "      <th>2</th>\n",
              "      <td>1.614809e+09</td>\n",
              "      <td>gregorcee</td>\n",
              "      <td>Rashford telling Maguire to “shut the f**k up ...</td>\n",
              "    </tr>\n",
              "    <tr>\n",
              "      <th>3</th>\n",
              "      <td>1.614803e+09</td>\n",
              "      <td>MatchThreadder</td>\n",
              "      <td>Match Thread: Crystal Palace vs Manchester Uni...</td>\n",
              "    </tr>\n",
              "    <tr>\n",
              "      <th>4</th>\n",
              "      <td>1.614605e+09</td>\n",
              "      <td>Arth_</td>\n",
              "      <td>[Loan Watch Report] 22.02-28.02</td>\n",
              "    </tr>\n",
              "  </tbody>\n",
              "</table>\n",
              "</div>"
            ],
            "text/plain": [
              "     Created At  ...                                               Text\n",
              "0  1.615052e+09  ...  CONMEBOL have suspended World Cup qualifiers f...\n",
              "1  1.615026e+09  ...                                 How's Alex Telles?\n",
              "2  1.614809e+09  ...  Rashford telling Maguire to “shut the f**k up ...\n",
              "3  1.614803e+09  ...  Match Thread: Crystal Palace vs Manchester Uni...\n",
              "4  1.614605e+09  ...                    [Loan Watch Report] 22.02-28.02\n",
              "\n",
              "[5 rows x 3 columns]"
            ]
          },
          "metadata": {
            "tags": []
          },
          "execution_count": 26
        }
      ]
    },
    {
      "cell_type": "markdown",
      "metadata": {
        "id": "w-XWM9Z3unP5"
      },
      "source": [
        "#### \\\\\\\\ PSAW"
      ]
    },
    {
      "cell_type": "code",
      "metadata": {
        "id": "XINDtghlvmrX"
      },
      "source": [
        "# from psaw import PushshiftAPI\n",
        "\n",
        "# api = PushshiftAPI()"
      ],
      "execution_count": null,
      "outputs": []
    },
    {
      "cell_type": "code",
      "metadata": {
        "id": "w9M35rfPvnq5"
      },
      "source": [
        "# gen = api.search_comments(\n",
        "#   q = SEARCH_STRING,\n",
        "#   # subreddit = REDDIT_SUB,\n",
        "#   limit = SEARCH_LIMIT,\n",
        "#   after = int(SEARCH_DATE_SINCE.timestamp()),\n",
        "#   before = int(SEARCH_DATE.timestamp())\n",
        "# )\n",
        "\n",
        "# max_response_cache = SEARCH_LIMIT\n",
        "# cache = []\n",
        "\n",
        "# for c in gen:\n",
        "#   cache.append(c)\n",
        "#   if len(cache) >= max_response_cache:\n",
        "#     break"
      ],
      "execution_count": null,
      "outputs": []
    },
    {
      "cell_type": "code",
      "metadata": {
        "colab": {
          "base_uri": "https://localhost:8080/"
        },
        "id": "RW0y9teowSB2",
        "outputId": "7a3d43a7-c58a-4770-8a24-65ad5a1d94ad"
      },
      "source": [
        "# psawRows = [[comment.created_utc, comment.author, comment.body] for comment in cache]\n",
        "# dfPsaw = pd.DataFrame(psawRows, columns = ['Created At', 'Name', 'Text'])\n",
        "# dfPsaw['Created At'] = dfPsaw['Created At'].apply(lambda row: datetime.fromtimestamp(row))\n",
        "\n",
        "# dfPsaw.shape"
      ],
      "execution_count": null,
      "outputs": [
        {
          "output_type": "execute_result",
          "data": {
            "text/plain": [
              "(1434, 3)"
            ]
          },
          "metadata": {
            "tags": []
          },
          "execution_count": 33
        }
      ]
    },
    {
      "cell_type": "code",
      "metadata": {
        "colab": {
          "base_uri": "https://localhost:8080/",
          "height": 189
        },
        "id": "apPTmJFj8_Xz",
        "outputId": "e18e477a-2b42-4b84-81c2-b76e01decb00"
      },
      "source": [
        "# dfPsaw.head()"
      ],
      "execution_count": null,
      "outputs": [
        {
          "output_type": "execute_result",
          "data": {
            "text/html": [
              "<div>\n",
              "<style scoped>\n",
              "    .dataframe tbody tr th:only-of-type {\n",
              "        vertical-align: middle;\n",
              "    }\n",
              "\n",
              "    .dataframe tbody tr th {\n",
              "        vertical-align: top;\n",
              "    }\n",
              "\n",
              "    .dataframe thead th {\n",
              "        text-align: right;\n",
              "    }\n",
              "</style>\n",
              "<table border=\"1\" class=\"dataframe\">\n",
              "  <thead>\n",
              "    <tr style=\"text-align: right;\">\n",
              "      <th></th>\n",
              "      <th>Created At</th>\n",
              "      <th>Name</th>\n",
              "      <th>Text</th>\n",
              "    </tr>\n",
              "  </thead>\n",
              "  <tbody>\n",
              "    <tr>\n",
              "      <th>0</th>\n",
              "      <td>2021-03-08 23:59:46</td>\n",
              "      <td>bsthedog</td>\n",
              "      <td>Cathie is a really good investor, but she soun...</td>\n",
              "    </tr>\n",
              "    <tr>\n",
              "      <th>1</th>\n",
              "      <td>2021-03-08 23:59:45</td>\n",
              "      <td>SirrMeowsalot</td>\n",
              "      <td>Waiting for TSLA to get to the 400s\\nARKF look...</td>\n",
              "    </tr>\n",
              "    <tr>\n",
              "      <th>2</th>\n",
              "      <td>2021-03-08 23:57:44</td>\n",
              "      <td>ANightmareOnBakerSt</td>\n",
              "      <td>Tsla is not worth hundreds of billions of doll...</td>\n",
              "    </tr>\n",
              "    <tr>\n",
              "      <th>3</th>\n",
              "      <td>2021-03-08 23:57:37</td>\n",
              "      <td>LordPraetorian</td>\n",
              "      <td>TSLA 1000 EOW</td>\n",
              "    </tr>\n",
              "    <tr>\n",
              "      <th>4</th>\n",
              "      <td>2021-03-08 23:57:34</td>\n",
              "      <td>raleighboi</td>\n",
              "      <td>\"Hah old boomer making his last boring trade\"\\...</td>\n",
              "    </tr>\n",
              "  </tbody>\n",
              "</table>\n",
              "</div>"
            ],
            "text/plain": [
              "           Created At  ...                                               Text\n",
              "0 2021-03-08 23:59:46  ...  Cathie is a really good investor, but she soun...\n",
              "1 2021-03-08 23:59:45  ...  Waiting for TSLA to get to the 400s\\nARKF look...\n",
              "2 2021-03-08 23:57:44  ...  Tsla is not worth hundreds of billions of doll...\n",
              "3 2021-03-08 23:57:37  ...                                      TSLA 1000 EOW\n",
              "4 2021-03-08 23:57:34  ...  \"Hah old boomer making his last boring trade\"\\...\n",
              "\n",
              "[5 rows x 3 columns]"
            ]
          },
          "metadata": {
            "tags": []
          },
          "execution_count": 34
        }
      ]
    },
    {
      "cell_type": "markdown",
      "metadata": {
        "id": "b9Yk88iuVZTi"
      },
      "source": [
        "#### BigQuery"
      ]
    },
    {
      "cell_type": "code",
      "metadata": {
        "colab": {
          "base_uri": "https://localhost:8080/"
        },
        "id": "jguQr7voVcA9",
        "outputId": "cc17ac4a-2742-4e55-ac28-560b61b2f076"
      },
      "source": [
        "from google.colab import auth\n",
        "auth.authenticate_user()\n",
        "print('Authenticated')"
      ],
      "execution_count": null,
      "outputs": [
        {
          "output_type": "stream",
          "text": [
            "Authenticated\n"
          ],
          "name": "stdout"
        }
      ]
    },
    {
      "cell_type": "code",
      "metadata": {
        "colab": {
          "base_uri": "https://localhost:8080/"
        },
        "id": "Logi1Lp8Vhfj",
        "outputId": "05716494-4b6e-44f4-cf20-5d1d5499006b"
      },
      "source": [
        "%%bigquery --project tranquil-petal-234618 dfBigQuery\n",
        "SELECT f.created_utc, f.author, f.body\n",
        "FROM `fh-bigquery.reddit_comments.2019_*` as f\n",
        "WHERE LOWER(f.body) LIKE '%tsla%'"
      ],
      "execution_count": null,
      "outputs": [
        {
          "output_type": "stream",
          "text": [
            "Executing query with job ID: 694788a3-07a3-417a-aae6-9dfc62cb6af2\n",
            "Query executing: 0.86s"
          ],
          "name": "stdout"
        },
        {
          "output_type": "stream",
          "text": [
            "\n",
            "ERROR:\n",
            " 403 GET https://bigquery.googleapis.com/bigquery/v2/projects/tranquil-petal-234618/queries/694788a3-07a3-417a-aae6-9dfc62cb6af2?maxResults=0&timeoutMs=400&location=US: Quota exceeded: Your project exceeded quota for free query bytes scanned. For more information, see https://cloud.google.com/bigquery/troubleshooting-errors\n",
            "\n",
            "(job ID: 694788a3-07a3-417a-aae6-9dfc62cb6af2)\n",
            "\n",
            "          -----Query Job SQL Follows-----          \n",
            "\n",
            "    |    .    |    .    |    .    |    .    |\n",
            "   1:SELECT f.created_utc, f.author, f.body\n",
            "   2:FROM `fh-bigquery.reddit_comments.2018_*` as f\n",
            "   3:WHERE LOWER(f.body) LIKE '%tsla%'\n",
            "    |    .    |    .    |    .    |    .    |\n"
          ],
          "name": "stderr"
        }
      ]
    },
    {
      "cell_type": "code",
      "metadata": {
        "id": "UXPEOnE9WW1C"
      },
      "source": [
        "# dfBigQuery.to_csv('bq_tsla_2019.csv')\n",
        "# dfBigQuery = pd.read_csv('bq_tsla_2019.csv', index_col = 0)"
      ],
      "execution_count": null,
      "outputs": []
    },
    {
      "cell_type": "code",
      "metadata": {
        "colab": {
          "base_uri": "https://localhost:8080/"
        },
        "id": "9aONj8eS1nDO",
        "outputId": "d32f41a7-7748-4430-c3a7-feb6012f32ae"
      },
      "source": [
        "dfBigQuery.shape"
      ],
      "execution_count": null,
      "outputs": [
        {
          "output_type": "execute_result",
          "data": {
            "text/plain": [
              "(68907, 3)"
            ]
          },
          "metadata": {
            "tags": []
          },
          "execution_count": 63
        }
      ]
    },
    {
      "cell_type": "code",
      "metadata": {
        "id": "OLTm161m4AG6"
      },
      "source": [
        "dfBigQuery.rename(columns={'created_utc': 'Created At', 'author': 'Name', 'body': 'Text'}, inplace = True);\n",
        "dfBigQuery['Created At'] = dfBigQuery['Created At'].apply(lambda row: datetime.fromtimestamp(row))"
      ],
      "execution_count": null,
      "outputs": []
    },
    {
      "cell_type": "code",
      "metadata": {
        "id": "GPXZDrEMVvfE",
        "colab": {
          "base_uri": "https://localhost:8080/",
          "height": 189
        },
        "outputId": "1d2cc75d-5cf0-49d9-afa8-c0ed438f89ac"
      },
      "source": [
        "dfBigQuery.head()"
      ],
      "execution_count": null,
      "outputs": [
        {
          "output_type": "execute_result",
          "data": {
            "text/html": [
              "<div>\n",
              "<style scoped>\n",
              "    .dataframe tbody tr th:only-of-type {\n",
              "        vertical-align: middle;\n",
              "    }\n",
              "\n",
              "    .dataframe tbody tr th {\n",
              "        vertical-align: top;\n",
              "    }\n",
              "\n",
              "    .dataframe thead th {\n",
              "        text-align: right;\n",
              "    }\n",
              "</style>\n",
              "<table border=\"1\" class=\"dataframe\">\n",
              "  <thead>\n",
              "    <tr style=\"text-align: right;\">\n",
              "      <th></th>\n",
              "      <th>Created At</th>\n",
              "      <th>Name</th>\n",
              "      <th>Text</th>\n",
              "    </tr>\n",
              "  </thead>\n",
              "  <tbody>\n",
              "    <tr>\n",
              "      <th>0</th>\n",
              "      <td>2019-07-20 05:46:19</td>\n",
              "      <td>themiamimarlins</td>\n",
              "      <td>Would the Castro fielding error count as a FAR...</td>\n",
              "    </tr>\n",
              "    <tr>\n",
              "      <th>1</th>\n",
              "      <td>2019-07-16 00:03:30</td>\n",
              "      <td>BaunDorn</td>\n",
              "      <td>Roll forward means to sell options and repurch...</td>\n",
              "    </tr>\n",
              "    <tr>\n",
              "      <th>2</th>\n",
              "      <td>2019-07-21 16:14:27</td>\n",
              "      <td>yaboy_jesse</td>\n",
              "      <td>Makker verklaar mij nog een keer voor duitser ...</td>\n",
              "    </tr>\n",
              "    <tr>\n",
              "      <th>3</th>\n",
              "      <td>2019-07-25 02:25:44</td>\n",
              "      <td>BussySlayer69</td>\n",
              "      <td>But TSLA shares aren't backed by a huge milita...</td>\n",
              "    </tr>\n",
              "    <tr>\n",
              "      <th>4</th>\n",
              "      <td>2019-07-24 23:08:48</td>\n",
              "      <td>YeOldeFirstTimer</td>\n",
              "      <td>What are everyone’s expectations for TSLA for ...</td>\n",
              "    </tr>\n",
              "  </tbody>\n",
              "</table>\n",
              "</div>"
            ],
            "text/plain": [
              "           Created At  ...                                               Text\n",
              "0 2019-07-20 05:46:19  ...  Would the Castro fielding error count as a FAR...\n",
              "1 2019-07-16 00:03:30  ...  Roll forward means to sell options and repurch...\n",
              "2 2019-07-21 16:14:27  ...  Makker verklaar mij nog een keer voor duitser ...\n",
              "3 2019-07-25 02:25:44  ...  But TSLA shares aren't backed by a huge milita...\n",
              "4 2019-07-24 23:08:48  ...  What are everyone’s expectations for TSLA for ...\n",
              "\n",
              "[5 rows x 3 columns]"
            ]
          },
          "metadata": {
            "tags": []
          },
          "execution_count": 44
        }
      ]
    },
    {
      "cell_type": "code",
      "metadata": {
        "colab": {
          "base_uri": "https://localhost:8080/"
        },
        "id": "zEMa_83O2dPR",
        "outputId": "97ba21d9-9c35-4c19-eff5-befa6487248d"
      },
      "source": [
        "dfBigQuery.groupby([dfBigQuery['Created At'].dt.date])['Text'].count()"
      ],
      "execution_count": null,
      "outputs": [
        {
          "output_type": "execute_result",
          "data": {
            "text/plain": [
              "Created At\n",
              "2019-01-01     99\n",
              "2019-01-02    214\n",
              "2019-01-03    184\n",
              "2019-01-04    137\n",
              "2019-01-05     84\n",
              "             ... \n",
              "2019-12-27    246\n",
              "2019-12-28    171\n",
              "2019-12-29    139\n",
              "2019-12-30    298\n",
              "2019-12-31    252\n",
              "Name: Text, Length: 365, dtype: int64"
            ]
          },
          "metadata": {
            "tags": []
          },
          "execution_count": 45
        }
      ]
    },
    {
      "cell_type": "markdown",
      "metadata": {
        "id": "3xj2wUAlL8fU"
      },
      "source": [
        "### Consolidação dos dados"
      ]
    },
    {
      "cell_type": "code",
      "metadata": {
        "id": "L58HY758Mw4Y"
      },
      "source": [
        "dfTwint['Source'] = 'Twitter'\n",
        "dfBigQuery['Source'] = 'Reddit'"
      ],
      "execution_count": null,
      "outputs": []
    },
    {
      "cell_type": "code",
      "metadata": {
        "colab": {
          "base_uri": "https://localhost:8080/"
        },
        "id": "u2XtSM0xL7V_",
        "outputId": "82af248a-d964-4670-de55-38908fe44324"
      },
      "source": [
        "dfDados = pd.concat([dfTwint, dfBigQuery], ignore_index = True)\n",
        "dfDados.shape"
      ],
      "execution_count": null,
      "outputs": [
        {
          "output_type": "execute_result",
          "data": {
            "text/plain": [
              "(599557, 4)"
            ]
          },
          "metadata": {
            "tags": []
          },
          "execution_count": 66
        }
      ]
    },
    {
      "cell_type": "code",
      "metadata": {
        "colab": {
          "base_uri": "https://localhost:8080/"
        },
        "id": "yt1bIcJxs834",
        "outputId": "772031a8-40ec-4da0-b09d-cea5976dadac"
      },
      "source": [
        "dfDados['Created At'] = pd.to_datetime(dfDados['Created At'])\n",
        "dfDados.dtypes"
      ],
      "execution_count": null,
      "outputs": [
        {
          "output_type": "execute_result",
          "data": {
            "text/plain": [
              "Created At    datetime64[ns]\n",
              "Name                  object\n",
              "Text                  object\n",
              "Source                object\n",
              "dtype: object"
            ]
          },
          "metadata": {
            "tags": []
          },
          "execution_count": 67
        }
      ]
    },
    {
      "cell_type": "code",
      "metadata": {
        "colab": {
          "base_uri": "https://localhost:8080/",
          "height": 388
        },
        "id": "A9mS0zhDNCXw",
        "outputId": "e7b26095-a6e8-448f-93b2-5e622c7eabf5"
      },
      "source": [
        "dfDados"
      ],
      "execution_count": null,
      "outputs": [
        {
          "output_type": "execute_result",
          "data": {
            "text/html": [
              "<div>\n",
              "<style scoped>\n",
              "    .dataframe tbody tr th:only-of-type {\n",
              "        vertical-align: middle;\n",
              "    }\n",
              "\n",
              "    .dataframe tbody tr th {\n",
              "        vertical-align: top;\n",
              "    }\n",
              "\n",
              "    .dataframe thead th {\n",
              "        text-align: right;\n",
              "    }\n",
              "</style>\n",
              "<table border=\"1\" class=\"dataframe\">\n",
              "  <thead>\n",
              "    <tr style=\"text-align: right;\">\n",
              "      <th></th>\n",
              "      <th>Created At</th>\n",
              "      <th>Name</th>\n",
              "      <th>Text</th>\n",
              "      <th>Source</th>\n",
              "    </tr>\n",
              "  </thead>\n",
              "  <tbody>\n",
              "    <tr>\n",
              "      <th>0</th>\n",
              "      <td>2019-01-01 23:59:21</td>\n",
              "      <td>alexandrosM</td>\n",
              "      <td>Inspired by thoughts and info I read via @Valu...</td>\n",
              "      <td>Twitter</td>\n",
              "    </tr>\n",
              "    <tr>\n",
              "      <th>1</th>\n",
              "      <td>2019-01-01 23:58:56</td>\n",
              "      <td>Trumpery45</td>\n",
              "      <td>@ShortingIsFun The road stress simulator at 36...</td>\n",
              "      <td>Twitter</td>\n",
              "    </tr>\n",
              "    <tr>\n",
              "      <th>2</th>\n",
              "      <td>2019-01-01 23:58:20</td>\n",
              "      <td>certifiedlink_</td>\n",
              "      <td>@JTSEO9 tsla should have reported a going conc...</td>\n",
              "      <td>Twitter</td>\n",
              "    </tr>\n",
              "    <tr>\n",
              "      <th>3</th>\n",
              "      <td>2019-01-01 23:57:43</td>\n",
              "      <td>smartertrader</td>\n",
              "      <td>Tsla. Very simple trade. If they 352 gets rippy.</td>\n",
              "      <td>Twitter</td>\n",
              "    </tr>\n",
              "    <tr>\n",
              "      <th>4</th>\n",
              "      <td>2019-01-01 23:57:20</td>\n",
              "      <td>ShortingIsFun</td>\n",
              "      <td>@kzdorman @Tesla @elonmusk What are people doi...</td>\n",
              "      <td>Twitter</td>\n",
              "    </tr>\n",
              "    <tr>\n",
              "      <th>...</th>\n",
              "      <td>...</td>\n",
              "      <td>...</td>\n",
              "      <td>...</td>\n",
              "      <td>...</td>\n",
              "    </tr>\n",
              "    <tr>\n",
              "      <th>599552</th>\n",
              "      <td>2019-08-30 21:50:56</td>\n",
              "      <td>AutoModerator</td>\n",
              "      <td>Hey /u/goodlife109! Thank you for your submiss...</td>\n",
              "      <td>Reddit</td>\n",
              "    </tr>\n",
              "    <tr>\n",
              "      <th>599553</th>\n",
              "      <td>2019-08-21 07:11:06</td>\n",
              "      <td>AutoModerator</td>\n",
              "      <td>Hello /u/thethotslayer3000! Unfortunately, you...</td>\n",
              "      <td>Reddit</td>\n",
              "    </tr>\n",
              "    <tr>\n",
              "      <th>599554</th>\n",
              "      <td>2019-08-19 14:03:52</td>\n",
              "      <td>AutoModerator</td>\n",
              "      <td>Hello /u/Thotslay3r69! Unfortunately, your pos...</td>\n",
              "      <td>Reddit</td>\n",
              "    </tr>\n",
              "    <tr>\n",
              "      <th>599555</th>\n",
              "      <td>2019-07-08 03:56:56</td>\n",
              "      <td>AutoModerator</td>\n",
              "      <td>Hello /u/DaveGiantSlayer, this is not really s...</td>\n",
              "      <td>Reddit</td>\n",
              "    </tr>\n",
              "    <tr>\n",
              "      <th>599556</th>\n",
              "      <td>2019-07-18 20:33:11</td>\n",
              "      <td>AutoModerator</td>\n",
              "      <td>Hello /u/Lauritslangballe! Unfortunately, your...</td>\n",
              "      <td>Reddit</td>\n",
              "    </tr>\n",
              "  </tbody>\n",
              "</table>\n",
              "<p>599557 rows × 4 columns</p>\n",
              "</div>"
            ],
            "text/plain": [
              "                Created At  ...   Source\n",
              "0      2019-01-01 23:59:21  ...  Twitter\n",
              "1      2019-01-01 23:58:56  ...  Twitter\n",
              "2      2019-01-01 23:58:20  ...  Twitter\n",
              "3      2019-01-01 23:57:43  ...  Twitter\n",
              "4      2019-01-01 23:57:20  ...  Twitter\n",
              "...                    ...  ...      ...\n",
              "599552 2019-08-30 21:50:56  ...   Reddit\n",
              "599553 2019-08-21 07:11:06  ...   Reddit\n",
              "599554 2019-08-19 14:03:52  ...   Reddit\n",
              "599555 2019-07-08 03:56:56  ...   Reddit\n",
              "599556 2019-07-18 20:33:11  ...   Reddit\n",
              "\n",
              "[599557 rows x 4 columns]"
            ]
          },
          "metadata": {
            "tags": []
          },
          "execution_count": 70
        }
      ]
    },
    {
      "cell_type": "code",
      "metadata": {
        "id": "EljyUCRp9NNQ"
      },
      "source": [
        "dfDados.to_csv('tsla_2019_data.csv')"
      ],
      "execution_count": null,
      "outputs": []
    }
  ]
}