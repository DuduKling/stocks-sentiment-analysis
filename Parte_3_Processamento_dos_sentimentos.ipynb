{
  "nbformat": 4,
  "nbformat_minor": 0,
  "metadata": {
    "colab": {
      "name": "Parte 3 - Processamento.ipynb",
      "provenance": [],
      "collapsed_sections": [],
      "toc_visible": true
    },
    "kernelspec": {
      "display_name": "Python 3",
      "name": "python3"
    },
    "widgets": {
      "application/vnd.jupyter.widget-state+json": {
        "8f55fd0a8a884544a004d4807bdaa9db": {
          "model_module": "@jupyter-widgets/controls",
          "model_name": "HBoxModel",
          "state": {
            "_view_name": "HBoxView",
            "_dom_classes": [],
            "_model_name": "HBoxModel",
            "_view_module": "@jupyter-widgets/controls",
            "_model_module_version": "1.5.0",
            "_view_count": null,
            "_view_module_version": "1.5.0",
            "box_style": "",
            "layout": "IPY_MODEL_85e12df871fd496da174956ed38834e0",
            "_model_module": "@jupyter-widgets/controls",
            "children": [
              "IPY_MODEL_8112bcc10fff4f218fdc7926d66fdb4e",
              "IPY_MODEL_a42d921334154a2dbb862e076458eb67"
            ]
          }
        },
        "85e12df871fd496da174956ed38834e0": {
          "model_module": "@jupyter-widgets/base",
          "model_name": "LayoutModel",
          "state": {
            "_view_name": "LayoutView",
            "grid_template_rows": null,
            "right": null,
            "justify_content": null,
            "_view_module": "@jupyter-widgets/base",
            "overflow": null,
            "_model_module_version": "1.2.0",
            "_view_count": null,
            "flex_flow": null,
            "width": null,
            "min_width": null,
            "border": null,
            "align_items": null,
            "bottom": null,
            "_model_module": "@jupyter-widgets/base",
            "top": null,
            "grid_column": null,
            "overflow_y": null,
            "overflow_x": null,
            "grid_auto_flow": null,
            "grid_area": null,
            "grid_template_columns": null,
            "flex": null,
            "_model_name": "LayoutModel",
            "justify_items": null,
            "grid_row": null,
            "max_height": null,
            "align_content": null,
            "visibility": null,
            "align_self": null,
            "height": null,
            "min_height": null,
            "padding": null,
            "grid_auto_rows": null,
            "grid_gap": null,
            "max_width": null,
            "order": null,
            "_view_module_version": "1.2.0",
            "grid_template_areas": null,
            "object_position": null,
            "object_fit": null,
            "grid_auto_columns": null,
            "margin": null,
            "display": null,
            "left": null
          }
        },
        "8112bcc10fff4f218fdc7926d66fdb4e": {
          "model_module": "@jupyter-widgets/controls",
          "model_name": "FloatProgressModel",
          "state": {
            "_view_name": "ProgressView",
            "style": "IPY_MODEL_709abfd5276f470384c3e1736cb0e756",
            "_dom_classes": [],
            "description": "Downloading: 100%",
            "_model_name": "FloatProgressModel",
            "bar_style": "success",
            "max": 629,
            "_view_module": "@jupyter-widgets/controls",
            "_model_module_version": "1.5.0",
            "value": 629,
            "_view_count": null,
            "_view_module_version": "1.5.0",
            "orientation": "horizontal",
            "min": 0,
            "description_tooltip": null,
            "_model_module": "@jupyter-widgets/controls",
            "layout": "IPY_MODEL_7cdeb37c39814a8a8a9847671434494d"
          }
        },
        "a42d921334154a2dbb862e076458eb67": {
          "model_module": "@jupyter-widgets/controls",
          "model_name": "HTMLModel",
          "state": {
            "_view_name": "HTMLView",
            "style": "IPY_MODEL_2c31dcebb6c54f98830a0ad5b0450e12",
            "_dom_classes": [],
            "description": "",
            "_model_name": "HTMLModel",
            "placeholder": "​",
            "_view_module": "@jupyter-widgets/controls",
            "_model_module_version": "1.5.0",
            "value": " 629/629 [00:19&lt;00:00, 32.1B/s]",
            "_view_count": null,
            "_view_module_version": "1.5.0",
            "description_tooltip": null,
            "_model_module": "@jupyter-widgets/controls",
            "layout": "IPY_MODEL_52f83bd840c74302907fc28cf6fe7c50"
          }
        },
        "709abfd5276f470384c3e1736cb0e756": {
          "model_module": "@jupyter-widgets/controls",
          "model_name": "ProgressStyleModel",
          "state": {
            "_view_name": "StyleView",
            "_model_name": "ProgressStyleModel",
            "description_width": "initial",
            "_view_module": "@jupyter-widgets/base",
            "_model_module_version": "1.5.0",
            "_view_count": null,
            "_view_module_version": "1.2.0",
            "bar_color": null,
            "_model_module": "@jupyter-widgets/controls"
          }
        },
        "7cdeb37c39814a8a8a9847671434494d": {
          "model_module": "@jupyter-widgets/base",
          "model_name": "LayoutModel",
          "state": {
            "_view_name": "LayoutView",
            "grid_template_rows": null,
            "right": null,
            "justify_content": null,
            "_view_module": "@jupyter-widgets/base",
            "overflow": null,
            "_model_module_version": "1.2.0",
            "_view_count": null,
            "flex_flow": null,
            "width": null,
            "min_width": null,
            "border": null,
            "align_items": null,
            "bottom": null,
            "_model_module": "@jupyter-widgets/base",
            "top": null,
            "grid_column": null,
            "overflow_y": null,
            "overflow_x": null,
            "grid_auto_flow": null,
            "grid_area": null,
            "grid_template_columns": null,
            "flex": null,
            "_model_name": "LayoutModel",
            "justify_items": null,
            "grid_row": null,
            "max_height": null,
            "align_content": null,
            "visibility": null,
            "align_self": null,
            "height": null,
            "min_height": null,
            "padding": null,
            "grid_auto_rows": null,
            "grid_gap": null,
            "max_width": null,
            "order": null,
            "_view_module_version": "1.2.0",
            "grid_template_areas": null,
            "object_position": null,
            "object_fit": null,
            "grid_auto_columns": null,
            "margin": null,
            "display": null,
            "left": null
          }
        },
        "2c31dcebb6c54f98830a0ad5b0450e12": {
          "model_module": "@jupyter-widgets/controls",
          "model_name": "DescriptionStyleModel",
          "state": {
            "_view_name": "StyleView",
            "_model_name": "DescriptionStyleModel",
            "description_width": "",
            "_view_module": "@jupyter-widgets/base",
            "_model_module_version": "1.5.0",
            "_view_count": null,
            "_view_module_version": "1.2.0",
            "_model_module": "@jupyter-widgets/controls"
          }
        },
        "52f83bd840c74302907fc28cf6fe7c50": {
          "model_module": "@jupyter-widgets/base",
          "model_name": "LayoutModel",
          "state": {
            "_view_name": "LayoutView",
            "grid_template_rows": null,
            "right": null,
            "justify_content": null,
            "_view_module": "@jupyter-widgets/base",
            "overflow": null,
            "_model_module_version": "1.2.0",
            "_view_count": null,
            "flex_flow": null,
            "width": null,
            "min_width": null,
            "border": null,
            "align_items": null,
            "bottom": null,
            "_model_module": "@jupyter-widgets/base",
            "top": null,
            "grid_column": null,
            "overflow_y": null,
            "overflow_x": null,
            "grid_auto_flow": null,
            "grid_area": null,
            "grid_template_columns": null,
            "flex": null,
            "_model_name": "LayoutModel",
            "justify_items": null,
            "grid_row": null,
            "max_height": null,
            "align_content": null,
            "visibility": null,
            "align_self": null,
            "height": null,
            "min_height": null,
            "padding": null,
            "grid_auto_rows": null,
            "grid_gap": null,
            "max_width": null,
            "order": null,
            "_view_module_version": "1.2.0",
            "grid_template_areas": null,
            "object_position": null,
            "object_fit": null,
            "grid_auto_columns": null,
            "margin": null,
            "display": null,
            "left": null
          }
        },
        "8d574f2826c04a17b3317e2cebec0caa": {
          "model_module": "@jupyter-widgets/controls",
          "model_name": "HBoxModel",
          "state": {
            "_view_name": "HBoxView",
            "_dom_classes": [],
            "_model_name": "HBoxModel",
            "_view_module": "@jupyter-widgets/controls",
            "_model_module_version": "1.5.0",
            "_view_count": null,
            "_view_module_version": "1.5.0",
            "box_style": "",
            "layout": "IPY_MODEL_3f74dbf89ca14541b643da97e0d51250",
            "_model_module": "@jupyter-widgets/controls",
            "children": [
              "IPY_MODEL_dfcd2efcbf2f4e8686361719e8a162f9",
              "IPY_MODEL_696e07e16d56404f922c8554c04c8167"
            ]
          }
        },
        "3f74dbf89ca14541b643da97e0d51250": {
          "model_module": "@jupyter-widgets/base",
          "model_name": "LayoutModel",
          "state": {
            "_view_name": "LayoutView",
            "grid_template_rows": null,
            "right": null,
            "justify_content": null,
            "_view_module": "@jupyter-widgets/base",
            "overflow": null,
            "_model_module_version": "1.2.0",
            "_view_count": null,
            "flex_flow": null,
            "width": null,
            "min_width": null,
            "border": null,
            "align_items": null,
            "bottom": null,
            "_model_module": "@jupyter-widgets/base",
            "top": null,
            "grid_column": null,
            "overflow_y": null,
            "overflow_x": null,
            "grid_auto_flow": null,
            "grid_area": null,
            "grid_template_columns": null,
            "flex": null,
            "_model_name": "LayoutModel",
            "justify_items": null,
            "grid_row": null,
            "max_height": null,
            "align_content": null,
            "visibility": null,
            "align_self": null,
            "height": null,
            "min_height": null,
            "padding": null,
            "grid_auto_rows": null,
            "grid_gap": null,
            "max_width": null,
            "order": null,
            "_view_module_version": "1.2.0",
            "grid_template_areas": null,
            "object_position": null,
            "object_fit": null,
            "grid_auto_columns": null,
            "margin": null,
            "display": null,
            "left": null
          }
        },
        "dfcd2efcbf2f4e8686361719e8a162f9": {
          "model_module": "@jupyter-widgets/controls",
          "model_name": "FloatProgressModel",
          "state": {
            "_view_name": "ProgressView",
            "style": "IPY_MODEL_ded33c2e1456447089d53e3082d1a9c4",
            "_dom_classes": [],
            "description": "Downloading: 100%",
            "_model_name": "FloatProgressModel",
            "bar_style": "success",
            "max": 267844284,
            "_view_module": "@jupyter-widgets/controls",
            "_model_module_version": "1.5.0",
            "value": 267844284,
            "_view_count": null,
            "_view_module_version": "1.5.0",
            "orientation": "horizontal",
            "min": 0,
            "description_tooltip": null,
            "_model_module": "@jupyter-widgets/controls",
            "layout": "IPY_MODEL_5881de086f114039931e3cd8e137724f"
          }
        },
        "696e07e16d56404f922c8554c04c8167": {
          "model_module": "@jupyter-widgets/controls",
          "model_name": "HTMLModel",
          "state": {
            "_view_name": "HTMLView",
            "style": "IPY_MODEL_6fc839aaf7b84c14846363331020eb9e",
            "_dom_classes": [],
            "description": "",
            "_model_name": "HTMLModel",
            "placeholder": "​",
            "_view_module": "@jupyter-widgets/controls",
            "_model_module_version": "1.5.0",
            "value": " 268M/268M [00:18&lt;00:00, 14.4MB/s]",
            "_view_count": null,
            "_view_module_version": "1.5.0",
            "description_tooltip": null,
            "_model_module": "@jupyter-widgets/controls",
            "layout": "IPY_MODEL_df47e45b8b85489fbfcf8d0ab1dc9e37"
          }
        },
        "ded33c2e1456447089d53e3082d1a9c4": {
          "model_module": "@jupyter-widgets/controls",
          "model_name": "ProgressStyleModel",
          "state": {
            "_view_name": "StyleView",
            "_model_name": "ProgressStyleModel",
            "description_width": "initial",
            "_view_module": "@jupyter-widgets/base",
            "_model_module_version": "1.5.0",
            "_view_count": null,
            "_view_module_version": "1.2.0",
            "bar_color": null,
            "_model_module": "@jupyter-widgets/controls"
          }
        },
        "5881de086f114039931e3cd8e137724f": {
          "model_module": "@jupyter-widgets/base",
          "model_name": "LayoutModel",
          "state": {
            "_view_name": "LayoutView",
            "grid_template_rows": null,
            "right": null,
            "justify_content": null,
            "_view_module": "@jupyter-widgets/base",
            "overflow": null,
            "_model_module_version": "1.2.0",
            "_view_count": null,
            "flex_flow": null,
            "width": null,
            "min_width": null,
            "border": null,
            "align_items": null,
            "bottom": null,
            "_model_module": "@jupyter-widgets/base",
            "top": null,
            "grid_column": null,
            "overflow_y": null,
            "overflow_x": null,
            "grid_auto_flow": null,
            "grid_area": null,
            "grid_template_columns": null,
            "flex": null,
            "_model_name": "LayoutModel",
            "justify_items": null,
            "grid_row": null,
            "max_height": null,
            "align_content": null,
            "visibility": null,
            "align_self": null,
            "height": null,
            "min_height": null,
            "padding": null,
            "grid_auto_rows": null,
            "grid_gap": null,
            "max_width": null,
            "order": null,
            "_view_module_version": "1.2.0",
            "grid_template_areas": null,
            "object_position": null,
            "object_fit": null,
            "grid_auto_columns": null,
            "margin": null,
            "display": null,
            "left": null
          }
        },
        "6fc839aaf7b84c14846363331020eb9e": {
          "model_module": "@jupyter-widgets/controls",
          "model_name": "DescriptionStyleModel",
          "state": {
            "_view_name": "StyleView",
            "_model_name": "DescriptionStyleModel",
            "description_width": "",
            "_view_module": "@jupyter-widgets/base",
            "_model_module_version": "1.5.0",
            "_view_count": null,
            "_view_module_version": "1.2.0",
            "_model_module": "@jupyter-widgets/controls"
          }
        },
        "df47e45b8b85489fbfcf8d0ab1dc9e37": {
          "model_module": "@jupyter-widgets/base",
          "model_name": "LayoutModel",
          "state": {
            "_view_name": "LayoutView",
            "grid_template_rows": null,
            "right": null,
            "justify_content": null,
            "_view_module": "@jupyter-widgets/base",
            "overflow": null,
            "_model_module_version": "1.2.0",
            "_view_count": null,
            "flex_flow": null,
            "width": null,
            "min_width": null,
            "border": null,
            "align_items": null,
            "bottom": null,
            "_model_module": "@jupyter-widgets/base",
            "top": null,
            "grid_column": null,
            "overflow_y": null,
            "overflow_x": null,
            "grid_auto_flow": null,
            "grid_area": null,
            "grid_template_columns": null,
            "flex": null,
            "_model_name": "LayoutModel",
            "justify_items": null,
            "grid_row": null,
            "max_height": null,
            "align_content": null,
            "visibility": null,
            "align_self": null,
            "height": null,
            "min_height": null,
            "padding": null,
            "grid_auto_rows": null,
            "grid_gap": null,
            "max_width": null,
            "order": null,
            "_view_module_version": "1.2.0",
            "grid_template_areas": null,
            "object_position": null,
            "object_fit": null,
            "grid_auto_columns": null,
            "margin": null,
            "display": null,
            "left": null
          }
        },
        "746c73b098104b86ab10e463df966039": {
          "model_module": "@jupyter-widgets/controls",
          "model_name": "HBoxModel",
          "state": {
            "_view_name": "HBoxView",
            "_dom_classes": [],
            "_model_name": "HBoxModel",
            "_view_module": "@jupyter-widgets/controls",
            "_model_module_version": "1.5.0",
            "_view_count": null,
            "_view_module_version": "1.5.0",
            "box_style": "",
            "layout": "IPY_MODEL_c3b7f8fb707d4ff4ad4becca90a31525",
            "_model_module": "@jupyter-widgets/controls",
            "children": [
              "IPY_MODEL_6363164dd9794ccabc4d090655f2e7af",
              "IPY_MODEL_6b10a6ae165c493ca6fa8d7e8b9092d4"
            ]
          }
        },
        "c3b7f8fb707d4ff4ad4becca90a31525": {
          "model_module": "@jupyter-widgets/base",
          "model_name": "LayoutModel",
          "state": {
            "_view_name": "LayoutView",
            "grid_template_rows": null,
            "right": null,
            "justify_content": null,
            "_view_module": "@jupyter-widgets/base",
            "overflow": null,
            "_model_module_version": "1.2.0",
            "_view_count": null,
            "flex_flow": null,
            "width": null,
            "min_width": null,
            "border": null,
            "align_items": null,
            "bottom": null,
            "_model_module": "@jupyter-widgets/base",
            "top": null,
            "grid_column": null,
            "overflow_y": null,
            "overflow_x": null,
            "grid_auto_flow": null,
            "grid_area": null,
            "grid_template_columns": null,
            "flex": null,
            "_model_name": "LayoutModel",
            "justify_items": null,
            "grid_row": null,
            "max_height": null,
            "align_content": null,
            "visibility": null,
            "align_self": null,
            "height": null,
            "min_height": null,
            "padding": null,
            "grid_auto_rows": null,
            "grid_gap": null,
            "max_width": null,
            "order": null,
            "_view_module_version": "1.2.0",
            "grid_template_areas": null,
            "object_position": null,
            "object_fit": null,
            "grid_auto_columns": null,
            "margin": null,
            "display": null,
            "left": null
          }
        },
        "6363164dd9794ccabc4d090655f2e7af": {
          "model_module": "@jupyter-widgets/controls",
          "model_name": "FloatProgressModel",
          "state": {
            "_view_name": "ProgressView",
            "style": "IPY_MODEL_d94637ab9701456fb089fbbe4f7547f6",
            "_dom_classes": [],
            "description": "Downloading: 100%",
            "_model_name": "FloatProgressModel",
            "bar_style": "success",
            "max": 231508,
            "_view_module": "@jupyter-widgets/controls",
            "_model_module_version": "1.5.0",
            "value": 231508,
            "_view_count": null,
            "_view_module_version": "1.5.0",
            "orientation": "horizontal",
            "min": 0,
            "description_tooltip": null,
            "_model_module": "@jupyter-widgets/controls",
            "layout": "IPY_MODEL_4df19882a4c24a6e88575dd2659c388f"
          }
        },
        "6b10a6ae165c493ca6fa8d7e8b9092d4": {
          "model_module": "@jupyter-widgets/controls",
          "model_name": "HTMLModel",
          "state": {
            "_view_name": "HTMLView",
            "style": "IPY_MODEL_9f78b33571b4483db0e3d99341424ed4",
            "_dom_classes": [],
            "description": "",
            "_model_name": "HTMLModel",
            "placeholder": "​",
            "_view_module": "@jupyter-widgets/controls",
            "_model_module_version": "1.5.0",
            "value": " 232k/232k [00:03&lt;00:00, 64.6kB/s]",
            "_view_count": null,
            "_view_module_version": "1.5.0",
            "description_tooltip": null,
            "_model_module": "@jupyter-widgets/controls",
            "layout": "IPY_MODEL_a04321c9a0d74343b1c98fd780d94b14"
          }
        },
        "d94637ab9701456fb089fbbe4f7547f6": {
          "model_module": "@jupyter-widgets/controls",
          "model_name": "ProgressStyleModel",
          "state": {
            "_view_name": "StyleView",
            "_model_name": "ProgressStyleModel",
            "description_width": "initial",
            "_view_module": "@jupyter-widgets/base",
            "_model_module_version": "1.5.0",
            "_view_count": null,
            "_view_module_version": "1.2.0",
            "bar_color": null,
            "_model_module": "@jupyter-widgets/controls"
          }
        },
        "4df19882a4c24a6e88575dd2659c388f": {
          "model_module": "@jupyter-widgets/base",
          "model_name": "LayoutModel",
          "state": {
            "_view_name": "LayoutView",
            "grid_template_rows": null,
            "right": null,
            "justify_content": null,
            "_view_module": "@jupyter-widgets/base",
            "overflow": null,
            "_model_module_version": "1.2.0",
            "_view_count": null,
            "flex_flow": null,
            "width": null,
            "min_width": null,
            "border": null,
            "align_items": null,
            "bottom": null,
            "_model_module": "@jupyter-widgets/base",
            "top": null,
            "grid_column": null,
            "overflow_y": null,
            "overflow_x": null,
            "grid_auto_flow": null,
            "grid_area": null,
            "grid_template_columns": null,
            "flex": null,
            "_model_name": "LayoutModel",
            "justify_items": null,
            "grid_row": null,
            "max_height": null,
            "align_content": null,
            "visibility": null,
            "align_self": null,
            "height": null,
            "min_height": null,
            "padding": null,
            "grid_auto_rows": null,
            "grid_gap": null,
            "max_width": null,
            "order": null,
            "_view_module_version": "1.2.0",
            "grid_template_areas": null,
            "object_position": null,
            "object_fit": null,
            "grid_auto_columns": null,
            "margin": null,
            "display": null,
            "left": null
          }
        },
        "9f78b33571b4483db0e3d99341424ed4": {
          "model_module": "@jupyter-widgets/controls",
          "model_name": "DescriptionStyleModel",
          "state": {
            "_view_name": "StyleView",
            "_model_name": "DescriptionStyleModel",
            "description_width": "",
            "_view_module": "@jupyter-widgets/base",
            "_model_module_version": "1.5.0",
            "_view_count": null,
            "_view_module_version": "1.2.0",
            "_model_module": "@jupyter-widgets/controls"
          }
        },
        "a04321c9a0d74343b1c98fd780d94b14": {
          "model_module": "@jupyter-widgets/base",
          "model_name": "LayoutModel",
          "state": {
            "_view_name": "LayoutView",
            "grid_template_rows": null,
            "right": null,
            "justify_content": null,
            "_view_module": "@jupyter-widgets/base",
            "overflow": null,
            "_model_module_version": "1.2.0",
            "_view_count": null,
            "flex_flow": null,
            "width": null,
            "min_width": null,
            "border": null,
            "align_items": null,
            "bottom": null,
            "_model_module": "@jupyter-widgets/base",
            "top": null,
            "grid_column": null,
            "overflow_y": null,
            "overflow_x": null,
            "grid_auto_flow": null,
            "grid_area": null,
            "grid_template_columns": null,
            "flex": null,
            "_model_name": "LayoutModel",
            "justify_items": null,
            "grid_row": null,
            "max_height": null,
            "align_content": null,
            "visibility": null,
            "align_self": null,
            "height": null,
            "min_height": null,
            "padding": null,
            "grid_auto_rows": null,
            "grid_gap": null,
            "max_width": null,
            "order": null,
            "_view_module_version": "1.2.0",
            "grid_template_areas": null,
            "object_position": null,
            "object_fit": null,
            "grid_auto_columns": null,
            "margin": null,
            "display": null,
            "left": null
          }
        },
        "6ccbc7553de7450d8373ff47ab267980": {
          "model_module": "@jupyter-widgets/controls",
          "model_name": "HBoxModel",
          "state": {
            "_view_name": "HBoxView",
            "_dom_classes": [],
            "_model_name": "HBoxModel",
            "_view_module": "@jupyter-widgets/controls",
            "_model_module_version": "1.5.0",
            "_view_count": null,
            "_view_module_version": "1.5.0",
            "box_style": "",
            "layout": "IPY_MODEL_0c06043f1cf9445199e916b3fd270de4",
            "_model_module": "@jupyter-widgets/controls",
            "children": [
              "IPY_MODEL_c02381a3a7e64ed2a205e34f5675d282",
              "IPY_MODEL_65724a1ab3044ff6acee623501bfb145"
            ]
          }
        },
        "0c06043f1cf9445199e916b3fd270de4": {
          "model_module": "@jupyter-widgets/base",
          "model_name": "LayoutModel",
          "state": {
            "_view_name": "LayoutView",
            "grid_template_rows": null,
            "right": null,
            "justify_content": null,
            "_view_module": "@jupyter-widgets/base",
            "overflow": null,
            "_model_module_version": "1.2.0",
            "_view_count": null,
            "flex_flow": null,
            "width": null,
            "min_width": null,
            "border": null,
            "align_items": null,
            "bottom": null,
            "_model_module": "@jupyter-widgets/base",
            "top": null,
            "grid_column": null,
            "overflow_y": null,
            "overflow_x": null,
            "grid_auto_flow": null,
            "grid_area": null,
            "grid_template_columns": null,
            "flex": null,
            "_model_name": "LayoutModel",
            "justify_items": null,
            "grid_row": null,
            "max_height": null,
            "align_content": null,
            "visibility": null,
            "align_self": null,
            "height": null,
            "min_height": null,
            "padding": null,
            "grid_auto_rows": null,
            "grid_gap": null,
            "max_width": null,
            "order": null,
            "_view_module_version": "1.2.0",
            "grid_template_areas": null,
            "object_position": null,
            "object_fit": null,
            "grid_auto_columns": null,
            "margin": null,
            "display": null,
            "left": null
          }
        },
        "c02381a3a7e64ed2a205e34f5675d282": {
          "model_module": "@jupyter-widgets/controls",
          "model_name": "FloatProgressModel",
          "state": {
            "_view_name": "ProgressView",
            "style": "IPY_MODEL_bab86c4bc8d74e8d9da31906c3863ed4",
            "_dom_classes": [],
            "description": "Downloading: 100%",
            "_model_name": "FloatProgressModel",
            "bar_style": "success",
            "max": 48,
            "_view_module": "@jupyter-widgets/controls",
            "_model_module_version": "1.5.0",
            "value": 48,
            "_view_count": null,
            "_view_module_version": "1.5.0",
            "orientation": "horizontal",
            "min": 0,
            "description_tooltip": null,
            "_model_module": "@jupyter-widgets/controls",
            "layout": "IPY_MODEL_901e147ce5b94f32ba824cf34ea3cc35"
          }
        },
        "65724a1ab3044ff6acee623501bfb145": {
          "model_module": "@jupyter-widgets/controls",
          "model_name": "HTMLModel",
          "state": {
            "_view_name": "HTMLView",
            "style": "IPY_MODEL_548c7912d02c40a6b2585173542f2e8a",
            "_dom_classes": [],
            "description": "",
            "_model_name": "HTMLModel",
            "placeholder": "​",
            "_view_module": "@jupyter-widgets/controls",
            "_model_module_version": "1.5.0",
            "value": " 48.0/48.0 [00:00&lt;00:00, 516B/s]",
            "_view_count": null,
            "_view_module_version": "1.5.0",
            "description_tooltip": null,
            "_model_module": "@jupyter-widgets/controls",
            "layout": "IPY_MODEL_c6633469e9804254bc656d53c9810c03"
          }
        },
        "bab86c4bc8d74e8d9da31906c3863ed4": {
          "model_module": "@jupyter-widgets/controls",
          "model_name": "ProgressStyleModel",
          "state": {
            "_view_name": "StyleView",
            "_model_name": "ProgressStyleModel",
            "description_width": "initial",
            "_view_module": "@jupyter-widgets/base",
            "_model_module_version": "1.5.0",
            "_view_count": null,
            "_view_module_version": "1.2.0",
            "bar_color": null,
            "_model_module": "@jupyter-widgets/controls"
          }
        },
        "901e147ce5b94f32ba824cf34ea3cc35": {
          "model_module": "@jupyter-widgets/base",
          "model_name": "LayoutModel",
          "state": {
            "_view_name": "LayoutView",
            "grid_template_rows": null,
            "right": null,
            "justify_content": null,
            "_view_module": "@jupyter-widgets/base",
            "overflow": null,
            "_model_module_version": "1.2.0",
            "_view_count": null,
            "flex_flow": null,
            "width": null,
            "min_width": null,
            "border": null,
            "align_items": null,
            "bottom": null,
            "_model_module": "@jupyter-widgets/base",
            "top": null,
            "grid_column": null,
            "overflow_y": null,
            "overflow_x": null,
            "grid_auto_flow": null,
            "grid_area": null,
            "grid_template_columns": null,
            "flex": null,
            "_model_name": "LayoutModel",
            "justify_items": null,
            "grid_row": null,
            "max_height": null,
            "align_content": null,
            "visibility": null,
            "align_self": null,
            "height": null,
            "min_height": null,
            "padding": null,
            "grid_auto_rows": null,
            "grid_gap": null,
            "max_width": null,
            "order": null,
            "_view_module_version": "1.2.0",
            "grid_template_areas": null,
            "object_position": null,
            "object_fit": null,
            "grid_auto_columns": null,
            "margin": null,
            "display": null,
            "left": null
          }
        },
        "548c7912d02c40a6b2585173542f2e8a": {
          "model_module": "@jupyter-widgets/controls",
          "model_name": "DescriptionStyleModel",
          "state": {
            "_view_name": "StyleView",
            "_model_name": "DescriptionStyleModel",
            "description_width": "",
            "_view_module": "@jupyter-widgets/base",
            "_model_module_version": "1.5.0",
            "_view_count": null,
            "_view_module_version": "1.2.0",
            "_model_module": "@jupyter-widgets/controls"
          }
        },
        "c6633469e9804254bc656d53c9810c03": {
          "model_module": "@jupyter-widgets/base",
          "model_name": "LayoutModel",
          "state": {
            "_view_name": "LayoutView",
            "grid_template_rows": null,
            "right": null,
            "justify_content": null,
            "_view_module": "@jupyter-widgets/base",
            "overflow": null,
            "_model_module_version": "1.2.0",
            "_view_count": null,
            "flex_flow": null,
            "width": null,
            "min_width": null,
            "border": null,
            "align_items": null,
            "bottom": null,
            "_model_module": "@jupyter-widgets/base",
            "top": null,
            "grid_column": null,
            "overflow_y": null,
            "overflow_x": null,
            "grid_auto_flow": null,
            "grid_area": null,
            "grid_template_columns": null,
            "flex": null,
            "_model_name": "LayoutModel",
            "justify_items": null,
            "grid_row": null,
            "max_height": null,
            "align_content": null,
            "visibility": null,
            "align_self": null,
            "height": null,
            "min_height": null,
            "padding": null,
            "grid_auto_rows": null,
            "grid_gap": null,
            "max_width": null,
            "order": null,
            "_view_module_version": "1.2.0",
            "grid_template_areas": null,
            "object_position": null,
            "object_fit": null,
            "grid_auto_columns": null,
            "margin": null,
            "display": null,
            "left": null
          }
        }
      }
    }
  },
  "cells": [
    {
      "cell_type": "markdown",
      "metadata": {
        "id": "KDv_7a0rJfFB"
      },
      "source": [
        "# Trabalho de conclusão de curso\n",
        "## Comparativo de análise de sentimentos em posts do Twitter/Reddit relacionados à Stocks"
      ]
    },
    {
      "cell_type": "markdown",
      "metadata": {
        "id": "gmm7i7c46RVA"
      },
      "source": [
        "# Parte 3 - Processamento dos sentimentos"
      ]
    },
    {
      "cell_type": "markdown",
      "metadata": {
        "id": "cuFxa2daKPM6"
      },
      "source": [
        "## Preparando ambiente"
      ]
    },
    {
      "cell_type": "code",
      "metadata": {
        "id": "PtNtDAABbSud",
        "colab": {
          "base_uri": "https://localhost:8080/"
        },
        "outputId": "76ae872a-311f-4fa4-caf5-8a89c901e5ca"
      },
      "source": [
        "# Hepers\n",
        "\n",
        "!pip install timely --quiet"
      ],
      "execution_count": null,
      "outputs": [
        {
          "output_type": "stream",
          "text": [
            "  Building wheel for timely (setup.py) ... \u001b[?25l\u001b[?25hdone\n",
            "\u001b[K     |████████████████████████████████| 327kB 5.8MB/s \n",
            "\u001b[K     |████████████████████████████████| 266kB 29.0MB/s \n",
            "\u001b[?25h  Building wheel for pyahocorasick (setup.py) ... \u001b[?25l\u001b[?25hdone\n"
          ],
          "name": "stdout"
        }
      ]
    },
    {
      "cell_type": "code",
      "metadata": {
        "id": "UVIanMgwPWcb",
        "colab": {
          "base_uri": "https://localhost:8080/"
        },
        "outputId": "416842ce-4580-4290-cccd-874d5fe82166"
      },
      "source": [
        "# Sentiment Libs\n",
        "\n",
        "!pip install afinn --quiet\n",
        "# !pip install pattern --quiet\n",
        "# !pip install stanza --quiet\n",
        "!pip install transformers --quiet\n",
        "\n",
        "try:\n",
        "  import polyglot\n",
        "except ImportError:\n",
        "  !pip3 install -U git+https://github.com/aboSamoor/polyglot.git@master --quiet"
      ],
      "execution_count": null,
      "outputs": [
        {
          "output_type": "stream",
          "text": [
            "\u001b[?25l\r\u001b[K     |██████▎                         | 10kB 14.1MB/s eta 0:00:01\r\u001b[K     |████████████▌                   | 20kB 18.8MB/s eta 0:00:01\r\u001b[K     |██████████████████▊             | 30kB 16.1MB/s eta 0:00:01\r\u001b[K     |█████████████████████████       | 40kB 11.1MB/s eta 0:00:01\r\u001b[K     |███████████████████████████████▏| 51kB 4.5MB/s eta 0:00:01\r\u001b[K     |████████████████████████████████| 61kB 2.9MB/s \n",
            "\u001b[?25h  Building wheel for afinn (setup.py) ... \u001b[?25l\u001b[?25hdone\n",
            "\u001b[K     |████████████████████████████████| 2.0MB 5.9MB/s \n",
            "\u001b[K     |████████████████████████████████| 3.2MB 41.9MB/s \n",
            "\u001b[K     |████████████████████████████████| 890kB 31.7MB/s \n",
            "\u001b[?25h  Building wheel for sacremoses (setup.py) ... \u001b[?25l\u001b[?25hdone\n"
          ],
          "name": "stdout"
        }
      ]
    },
    {
      "cell_type": "code",
      "metadata": {
        "colab": {
          "base_uri": "https://localhost:8080/",
          "height": 33
        },
        "id": "d9XpCobuJdRt",
        "outputId": "55d5204c-a18f-4f2c-f70c-3945b6b26345"
      },
      "source": [
        "import math\n",
        "\n",
        "from timely import Stopwatch\n",
        "from datetime import datetime, timedelta"
      ],
      "execution_count": null,
      "outputs": [
        {
          "output_type": "display_data",
          "data": {
            "text/plain": [
              "<Figure size 1728x1152 with 0 Axes>"
            ]
          },
          "metadata": {
            "tags": []
          }
        }
      ]
    },
    {
      "cell_type": "code",
      "metadata": {
        "colab": {
          "base_uri": "https://localhost:8080/"
        },
        "id": "Y5SGKTWbbsfO",
        "outputId": "c5eae54c-5715-4004-b232-736870eadc5a"
      },
      "source": [
        "# from google.colab import drive\n",
        "\n",
        "# drive.mount('/content/drive')"
      ],
      "execution_count": null,
      "outputs": [
        {
          "output_type": "stream",
          "text": [
            "Mounted at /content/drive\n"
          ],
          "name": "stdout"
        }
      ]
    },
    {
      "cell_type": "markdown",
      "metadata": {
        "id": "AP0KJLOgTyFb"
      },
      "source": [
        "## Análise"
      ]
    },
    {
      "cell_type": "code",
      "metadata": {
        "colab": {
          "base_uri": "https://localhost:8080/"
        },
        "id": "D-QDaL7nq6MQ",
        "outputId": "7d014510-576f-4c0c-f313-6864d3db35e1"
      },
      "source": [
        "dfDados = pd.read_csv(\n",
        "  'tsla_2019_clean.csv',\n",
        "  sep = ',',\n",
        "  lineterminator = '\\n',\n",
        "  index_col = 0,\n",
        "  dtype = {\n",
        "    'Unnamed: 0': 'str',\n",
        "    'Created At': 'str',\n",
        "    'Name': 'str',\n",
        "    'Text': 'str',\n",
        "    'Source': 'str',\n",
        "    'CleanText': 'str'\n",
        "  }\n",
        ")\n",
        "dfDados['Created At'] = pd.to_datetime(dfDados['Created At'])\n",
        "dfDados.dtypes"
      ],
      "execution_count": null,
      "outputs": [
        {
          "output_type": "execute_result",
          "data": {
            "text/plain": [
              "Created At    datetime64[ns]\n",
              "Name                  object\n",
              "Text                  object\n",
              "Source                object\n",
              "CleanText             object\n",
              "dtype: object"
            ]
          },
          "metadata": {
            "tags": []
          },
          "execution_count": 6
        }
      ]
    },
    {
      "cell_type": "markdown",
      "metadata": {
        "id": "b4Qwaxt0cgq3"
      },
      "source": [
        "### Sentimentos\n",
        "\n",
        "* [NLTK/VADER](https://pypi.org/project/nltk/) (Rule-based Model): Python package for natural language processing;\n",
        "* [Textblob](https://pypi.org/project/textblob/): Library for processing textual data;\n",
        "* [AFINN](https://pypi.org/project/afinn/): Wordlist-based approach for sentiment analysis;\n",
        "* [Polyglot](https://pypi.org/project/polyglot/): Polyglot is a natural language pipeline that supports massive multilingual applications;\n",
        "* [Pattern](https://github.com/clips/pattern/) *: Pattern is a web mining module for Python;\n",
        "* [Stanford CoreNLP](https://stanfordnlp.github.io/CoreNLP/) *: CoreNLP is your one stop shop for natural language processing in Java!;\n",
        "* [Transformers](https://huggingface.co/) **: Build, train and deploy state of the art models powered by the reference open source in natural language processing;\n",
        "\n",
        "\\* Não está sendo utilizado, código comentado.\n",
        "\\** Processamento é demorado, atingiu o timeout do collab.\n",
        "\n",
        "<br>\n",
        "\n",
        "---\n",
        "#### Tipos de métodos\n",
        "1 - Lexicon-based method \\\n",
        "2 - Machine Learning method\n",
        "\n",
        "* **NLTK/VADER**: 1 - Rule-based Model;\n",
        "* **Textblob**: 1 e 2 - Two sentiment analysis implementations, PatternAnalyzer (based on the pattern library) and NaiveBayesAnalyzer (an NLTK classifier trained on a movie reviews corpus);\n",
        "* **AFINN**: 1 - Wordlist-based approach for sentiment analysis;\n",
        "* **Polyglot**: 1 - Has a scale of words’ polarity consisted of three degrees;\n",
        "* **Pattern**: 1 - Depending upon the most commonly occurring positive and negative adjectives, a sentiment score between 1 and -1 is assigned to the text;\n",
        "* **Stanford CoreNLP**: 2 - SentimentAnnotator implements Socher et al’s sentiment model. Attaches a binarized tree of the sentence to the sentence level CoreMap. The nodes of the tree then contain the annotations from RNNCoreAnnotations indicating the predicted class and scores for that subtree;\n",
        "* **Transformers**: 2 - In 2017, researchers at google brought forward the concept of the transformer model which is a lot more efficient than its predecessors. First, the input embedding is multi-dimensional in the sense that it can process complete sentences and not a series of words one by one. Second, it has a powerful multi-headed attention mechanism that enables sentences to maintain context and relationships between words within a sentence. It performs this attention analysis for each word several times to ensure adequate sampling. Finally, it uses a feed forward neural network to normalize the results and provide a sentiment (or polarity) prediction."
      ]
    },
    {
      "cell_type": "code",
      "metadata": {
        "id": "LYcevVMsI2wV"
      },
      "source": [
        "def calculateSentiment(df, name, calculateFunc, resultFunc):\n",
        "  listTexts = df['CleanText']\n",
        "  listTexts = listTexts.apply(lambda x: str(x)[:512]) # Transformers limit\n",
        "\n",
        "  listScores = []\n",
        "\n",
        "  with Stopwatch() as s:\n",
        "    listScores = listTexts.apply(lambda text: calculateFunc(text))\n",
        "  print(f'Took {s.duration()}\\n')\n",
        "\n",
        "  df[name] = listScores;\n",
        "  df[f'{name}Score'] = df[name].apply(lambda score: resultFunc(score))"
      ],
      "execution_count": null,
      "outputs": []
    },
    {
      "cell_type": "code",
      "metadata": {
        "id": "o8sxi3TlxHhI"
      },
      "source": [
        "def getDefaultTextAnalysis(value):\n",
        "  if isinstance(value, float):\n",
        "    if value < 0:\n",
        "      return 'Negative'\n",
        "    elif value == 0:\n",
        "      return 'Neutral'\n",
        "    else:\n",
        "      return 'Positive'"
      ],
      "execution_count": null,
      "outputs": []
    },
    {
      "cell_type": "markdown",
      "metadata": {
        "id": "bofHZDFPDN5k"
      },
      "source": [
        "#### Nltk"
      ]
    },
    {
      "cell_type": "code",
      "metadata": {
        "colab": {
          "base_uri": "https://localhost:8080/"
        },
        "id": "tKXPVECLDNkX",
        "outputId": "52763d75-9c25-43f3-ab05-91a736a7a7f2"
      },
      "source": [
        "import nltk\n",
        "from nltk.sentiment import SentimentIntensityAnalyzer\n",
        "\n",
        "nltk.download('vader_lexicon')\n",
        "sia = SentimentIntensityAnalyzer()"
      ],
      "execution_count": null,
      "outputs": [
        {
          "output_type": "stream",
          "text": [
            "[nltk_data] Downloading package vader_lexicon to /root/nltk_data...\n"
          ],
          "name": "stdout"
        }
      ]
    },
    {
      "cell_type": "code",
      "metadata": {
        "id": "9k7JYuw-fZ87"
      },
      "source": [
        "calculateSentiment(\n",
        "  dfDados,\n",
        "  'nltkCompound',\n",
        "  lambda text: sia.polarity_scores(text)['compound'],\n",
        "  getDefaultTextAnalysis\n",
        ")"
      ],
      "execution_count": null,
      "outputs": []
    },
    {
      "cell_type": "markdown",
      "metadata": {
        "id": "cutjaeQSDJTY"
      },
      "source": [
        "#### Textblob"
      ]
    },
    {
      "cell_type": "code",
      "metadata": {
        "colab": {
          "base_uri": "https://localhost:8080/"
        },
        "id": "C4ogqmH_eC0O",
        "outputId": "4ade34e7-0019-4b55-9ad8-5dcfccac9c6e"
      },
      "source": [
        "from textblob import TextBlob # TextBlob - Python library for processing textual data\n",
        "from textblob import Blobber\n",
        "from textblob.sentiments import NaiveBayesAnalyzer\n",
        "\n",
        "nltk.download('movie_reviews')\n",
        "nltk.download('punkt')\n",
        "\n",
        "textBlobber = Blobber(analyzer=NaiveBayesAnalyzer())"
      ],
      "execution_count": null,
      "outputs": [
        {
          "output_type": "stream",
          "text": [
            "[nltk_data] Downloading package movie_reviews to /root/nltk_data...\n",
            "[nltk_data]   Unzipping corpora/movie_reviews.zip.\n",
            "[nltk_data] Downloading package punkt to /root/nltk_data...\n",
            "[nltk_data]   Unzipping tokenizers/punkt.zip.\n"
          ],
          "name": "stdout"
        },
        {
          "output_type": "execute_result",
          "data": {
            "text/plain": [
              "True"
            ]
          },
          "metadata": {
            "tags": []
          },
          "execution_count": 12
        }
      ]
    },
    {
      "cell_type": "code",
      "metadata": {
        "id": "kBLXL03j8-Zb"
      },
      "source": [
        "calculateSentiment(\n",
        "  dfDados,\n",
        "  'textblob',\n",
        "  lambda text: TextBlob(text).sentiment.polarity,\n",
        "  getDefaultTextAnalysis\n",
        ")"
      ],
      "execution_count": null,
      "outputs": []
    },
    {
      "cell_type": "code",
      "metadata": {
        "id": "1db0Y5EqSE4u"
      },
      "source": [
        "def getTextblobNaiveBayesTextAnalysis(value):\n",
        "  if value == 'neg':\n",
        "    return 'Negative'\n",
        "  elif value == 'pos':\n",
        "    return 'Positive'\n",
        "  else:\n",
        "    return 'Neutral'"
      ],
      "execution_count": null,
      "outputs": []
    },
    {
      "cell_type": "code",
      "metadata": {
        "id": "yaeZ_Ym_6CnS"
      },
      "source": [
        "calculateSentiment(\n",
        "  dfDados,\n",
        "  'textblobNaiveBayes',\n",
        "  lambda text: textBlobber(str(text)).sentiment.classification,\n",
        "  getTextblobNaiveBayesTextAnalysis\n",
        ")"
      ],
      "execution_count": null,
      "outputs": []
    },
    {
      "cell_type": "markdown",
      "metadata": {
        "id": "0c4qrheUQeO5"
      },
      "source": [
        "#### Afinn"
      ]
    },
    {
      "cell_type": "code",
      "metadata": {
        "id": "CHVZMuEBQgBZ"
      },
      "source": [
        "from afinn import Afinn\n",
        "\n",
        "afinn = Afinn()"
      ],
      "execution_count": null,
      "outputs": []
    },
    {
      "cell_type": "code",
      "metadata": {
        "id": "bpSXXmeQhbbL"
      },
      "source": [
        "calculateSentiment(\n",
        "  dfDados,\n",
        "  'afinn',\n",
        "  lambda text: afinn.score(text),\n",
        "  getDefaultTextAnalysis\n",
        ")"
      ],
      "execution_count": null,
      "outputs": []
    },
    {
      "cell_type": "markdown",
      "metadata": {
        "id": "gX4kDKfUYuOc"
      },
      "source": [
        "#### Polyglot"
      ]
    },
    {
      "cell_type": "code",
      "metadata": {
        "colab": {
          "base_uri": "https://localhost:8080/"
        },
        "id": "1P9DXNfNY0vY",
        "outputId": "5828e4df-0cea-4b71-b244-2643509b21d8"
      },
      "source": [
        "from polyglot.downloader import downloader\n",
        "from polyglot.text import Text\n",
        "\n",
        "downloader.supported_tasks(lang = 'en');\n",
        "downloader.download('sentiment2.en')"
      ],
      "execution_count": null,
      "outputs": [
        {
          "output_type": "stream",
          "text": [
            "[polyglot_data] Downloading package sentiment2.en to\n",
            "[polyglot_data]     /root/polyglot_data...\n"
          ],
          "name": "stdout"
        },
        {
          "output_type": "execute_result",
          "data": {
            "text/plain": [
              "True"
            ]
          },
          "metadata": {
            "tags": []
          },
          "execution_count": 14
        }
      ]
    },
    {
      "cell_type": "code",
      "metadata": {
        "id": "_2cNKp_zhk7n"
      },
      "source": [
        "calculateSentiment(\n",
        "  dfDados,\n",
        "  'polyglot',\n",
        "  lambda text: (Text(text, hint_language_code = 'en')).polarity,\n",
        "  getDefaultTextAnalysis\n",
        ")"
      ],
      "execution_count": null,
      "outputs": []
    },
    {
      "cell_type": "markdown",
      "metadata": {
        "id": "_BB_ntjCeZwB"
      },
      "source": [
        "#### \\\\\\\\ Pattern"
      ]
    },
    {
      "cell_type": "code",
      "metadata": {
        "id": "YfWve4RZeiM_"
      },
      "source": [
        "# from pattern.en import sentiment"
      ],
      "execution_count": null,
      "outputs": []
    },
    {
      "cell_type": "code",
      "metadata": {
        "id": "fE0W_6wlek3v"
      },
      "source": [
        "# calculateSentiment(\n",
        "#   dfDados,\n",
        "#   'pattern',\n",
        "#   lambda text: sentiment(text)[0],\n",
        "#   getDefaultTextAnalysis\n",
        "# )"
      ],
      "execution_count": null,
      "outputs": []
    },
    {
      "cell_type": "markdown",
      "metadata": {
        "id": "BRrTh_Pgm_NW"
      },
      "source": [
        "#### \\\\\\\\ Stanford CoreNLP"
      ]
    },
    {
      "cell_type": "code",
      "metadata": {
        "colab": {
          "base_uri": "https://localhost:8080/"
        },
        "id": "PcR31xufnK1f",
        "outputId": "f89ce1c2-92b6-4636-ed1d-dc9019b88ce7"
      },
      "source": [
        "# import stanza\n",
        "\n",
        "# # Download the Stanford CoreNLP package with Stanza's installation command\n",
        "# # This'll take several minutes, depending on the network speed\n",
        "# corenlp_dir = './corenlp'\n",
        "# stanza.install_corenlp(dir=corenlp_dir)\n",
        "\n",
        "# # Set the CORENLP_HOME environment variable to point to the installation location\n",
        "# import os\n",
        "# os.environ[\"CORENLP_HOME\"] = corenlp_dir\n",
        "\n",
        "# from stanza.server import CoreNLPClient"
      ],
      "execution_count": null,
      "outputs": [
        {
          "output_type": "stream",
          "text": [
            "INFO:stanza:Installing CoreNLP package into ./corenlp...\n",
            "Downloading http://nlp.stanford.edu/software/stanford-corenlp-latest.zip: 100%|██████████| 505M/505M [06:50<00:00, 1.23MB/s]\n",
            "WARNING:stanza:For customized installation location, please set the `CORENLP_HOME` environment variable to the location of the installation. In Unix, this is done with `export CORENLP_HOME=./corenlp`.\n"
          ],
          "name": "stderr"
        }
      ]
    },
    {
      "cell_type": "code",
      "metadata": {
        "colab": {
          "base_uri": "https://localhost:8080/"
        },
        "id": "qIDDWNZCntH5",
        "outputId": "dc04cfd3-899b-452a-f226-b8b54bbecd4d"
      },
      "source": [
        "# # Construct a CoreNLPClient with some basic annotators, a memory allocation of 4GB, and port number 9001\n",
        "# client = CoreNLPClient(\n",
        "#   annotators = ['sentiment'],\n",
        "#   outputFormat = 'json',\n",
        "#   memory = '4G', \n",
        "#   endpoint = 'http://localhost:9001',\n",
        "#   be_quiet = True\n",
        "# )\n",
        "# # print(client)"
      ],
      "execution_count": null,
      "outputs": [
        {
          "output_type": "stream",
          "text": [
            "INFO:stanza:Writing properties to tmp file: corenlp_server-2416942ed13e49c2.props\n"
          ],
          "name": "stderr"
        }
      ]
    },
    {
      "cell_type": "code",
      "metadata": {
        "id": "gAwA4j5BqRbd"
      },
      "source": [
        "# calculateSentiment(\n",
        "#   dfDados,\n",
        "#   'coreNLP',\n",
        "#   lambda text: (client.annotate(text)).sentence[0].sentiment,\n",
        "#   getDefaultTextAnalysis\n",
        "# )"
      ],
      "execution_count": null,
      "outputs": []
    },
    {
      "cell_type": "code",
      "metadata": {
        "id": "Uii9rF8epATu"
      },
      "source": [
        "# # Shut down the background CoreNLP server\n",
        "# client.stop()"
      ],
      "execution_count": null,
      "outputs": []
    },
    {
      "cell_type": "markdown",
      "metadata": {
        "id": "rlVRJJgEa4BO"
      },
      "source": [
        "#### Transformers"
      ]
    },
    {
      "cell_type": "code",
      "metadata": {
        "id": "A_yendNCa99k",
        "colab": {
          "base_uri": "https://localhost:8080/",
          "height": 211,
          "referenced_widgets": [
            "8f55fd0a8a884544a004d4807bdaa9db",
            "85e12df871fd496da174956ed38834e0",
            "8112bcc10fff4f218fdc7926d66fdb4e",
            "a42d921334154a2dbb862e076458eb67",
            "709abfd5276f470384c3e1736cb0e756",
            "7cdeb37c39814a8a8a9847671434494d",
            "2c31dcebb6c54f98830a0ad5b0450e12",
            "52f83bd840c74302907fc28cf6fe7c50",
            "8d574f2826c04a17b3317e2cebec0caa",
            "3f74dbf89ca14541b643da97e0d51250",
            "dfcd2efcbf2f4e8686361719e8a162f9",
            "696e07e16d56404f922c8554c04c8167",
            "ded33c2e1456447089d53e3082d1a9c4",
            "5881de086f114039931e3cd8e137724f",
            "6fc839aaf7b84c14846363331020eb9e",
            "df47e45b8b85489fbfcf8d0ab1dc9e37",
            "746c73b098104b86ab10e463df966039",
            "c3b7f8fb707d4ff4ad4becca90a31525",
            "6363164dd9794ccabc4d090655f2e7af",
            "6b10a6ae165c493ca6fa8d7e8b9092d4",
            "d94637ab9701456fb089fbbe4f7547f6",
            "4df19882a4c24a6e88575dd2659c388f",
            "9f78b33571b4483db0e3d99341424ed4",
            "a04321c9a0d74343b1c98fd780d94b14",
            "6ccbc7553de7450d8373ff47ab267980",
            "0c06043f1cf9445199e916b3fd270de4",
            "c02381a3a7e64ed2a205e34f5675d282",
            "65724a1ab3044ff6acee623501bfb145",
            "bab86c4bc8d74e8d9da31906c3863ed4",
            "901e147ce5b94f32ba824cf34ea3cc35",
            "548c7912d02c40a6b2585173542f2e8a",
            "c6633469e9804254bc656d53c9810c03"
          ]
        },
        "outputId": "91884c3a-822c-4541-f360-fe62414432a8"
      },
      "source": [
        "from transformers import pipeline"
      ],
      "execution_count": null,
      "outputs": [
        {
          "output_type": "display_data",
          "data": {
            "application/vnd.jupyter.widget-view+json": {
              "model_id": "8f55fd0a8a884544a004d4807bdaa9db",
              "version_minor": 0,
              "version_major": 2
            },
            "text/plain": [
              "HBox(children=(FloatProgress(value=0.0, description='Downloading', max=629.0, style=ProgressStyle(description_…"
            ]
          },
          "metadata": {
            "tags": []
          }
        },
        {
          "output_type": "stream",
          "text": [
            "\n"
          ],
          "name": "stdout"
        },
        {
          "output_type": "display_data",
          "data": {
            "application/vnd.jupyter.widget-view+json": {
              "model_id": "8d574f2826c04a17b3317e2cebec0caa",
              "version_minor": 0,
              "version_major": 2
            },
            "text/plain": [
              "HBox(children=(FloatProgress(value=0.0, description='Downloading', max=267844284.0, style=ProgressStyle(descri…"
            ]
          },
          "metadata": {
            "tags": []
          }
        },
        {
          "output_type": "stream",
          "text": [
            "\n"
          ],
          "name": "stdout"
        },
        {
          "output_type": "display_data",
          "data": {
            "application/vnd.jupyter.widget-view+json": {
              "model_id": "746c73b098104b86ab10e463df966039",
              "version_minor": 0,
              "version_major": 2
            },
            "text/plain": [
              "HBox(children=(FloatProgress(value=0.0, description='Downloading', max=231508.0, style=ProgressStyle(descripti…"
            ]
          },
          "metadata": {
            "tags": []
          }
        },
        {
          "output_type": "stream",
          "text": [
            "\n"
          ],
          "name": "stdout"
        },
        {
          "output_type": "display_data",
          "data": {
            "application/vnd.jupyter.widget-view+json": {
              "model_id": "6ccbc7553de7450d8373ff47ab267980",
              "version_minor": 0,
              "version_major": 2
            },
            "text/plain": [
              "HBox(children=(FloatProgress(value=0.0, description='Downloading', max=48.0, style=ProgressStyle(description_w…"
            ]
          },
          "metadata": {
            "tags": []
          }
        },
        {
          "output_type": "stream",
          "text": [
            "\n"
          ],
          "name": "stdout"
        }
      ]
    },
    {
      "cell_type": "code",
      "metadata": {
        "id": "4XLCqVhw4Ieh",
        "colab": {
          "base_uri": "https://localhost:8080/"
        },
        "outputId": "0fa42ea0-161d-4d75-ea03-a24bcd4a1701"
      },
      "source": [
        "def getBertTextAnalysis(value):\n",
        "  if value == 'NEGATIVE':\n",
        "    return 'Negative'\n",
        "  elif value == 'POSITIVE':\n",
        "    return 'Positive'\n",
        "  else:\n",
        "    return 'Neutral'\n",
        "\n",
        "def getNlptownTextAnalysis(value):\n",
        "  if value == 'negative':\n",
        "    return 'Negative'\n",
        "  elif value == 'positive':\n",
        "    return 'Positive'\n",
        "  else:\n",
        "    return 'Neutral'\n",
        "\n",
        "def getRobertaTextAnalysis(value):\n",
        "  if int(value[0]) < 3:\n",
        "    return 'Negative'\n",
        "  elif int(value[0]) > 3:\n",
        "    return 'Positive'\n",
        "  else:\n",
        "    return 'Neutral'"
      ],
      "execution_count": null,
      "outputs": [
        {
          "output_type": "execute_result",
          "data": {
            "text/plain": [
              "{'label': 'NEGATIVE', 'score': 0.999782383441925}"
            ]
          },
          "metadata": {
            "tags": []
          },
          "execution_count": 22
        }
      ]
    },
    {
      "cell_type": "code",
      "metadata": {
        "id": "0hMXm8_C4hVI"
      },
      "source": [
        "def calculateTransformerSentiment(df, name, resultFunc):\n",
        "  listTexts = df['CleanText']\n",
        "  listTexts = listTexts.apply(lambda x: str(x)[:512]) # Transformers limit\n",
        "\n",
        "  listLabels = []\n",
        "  listScores = []\n",
        "\n",
        "  with Stopwatch() as s:\n",
        "    i = 1;\n",
        "    for text in listTexts:\n",
        "      classification = classifier(text)[0]\n",
        "      classificationLabel = classification['label']\n",
        "      classificationScore = classification['score']\n",
        "\n",
        "      listLabels.append(classificationLabel)\n",
        "      listScores.append(classificationScore)\n",
        "\n",
        "      print(f'{i} - {classificationLabel} - {classificationScore}')\n",
        "      i += 1\n",
        "      # listScores = listTexts.apply(classifier(text)[0]['label'])\n",
        "  print(f'Took {s.duration()}\\n')\n",
        "\n",
        "  df[name] = listScores\n",
        "  df[f'{name}Score'] = listLabels.apply(lambda score: resultFunc(score))"
      ],
      "execution_count": null,
      "outputs": []
    },
    {
      "cell_type": "code",
      "metadata": {
        "id": "_N9punF9b1KA"
      },
      "source": [
        "classifier = pipeline('sentiment-analysis')\n",
        "\n",
        "calculateTransformerSentiment(\n",
        "  dfDados,\n",
        "  'transformer'\n",
        "  getBertTextAnalysis,\n",
        ")"
      ],
      "execution_count": null,
      "outputs": []
    },
    {
      "cell_type": "code",
      "metadata": {
        "id": "l04HZe0FbHtj"
      },
      "source": [
        "classifier = pipeline('sentiment-analysis', model=\"nlptown/bert-base-multilingual-uncased-sentiment\")\n",
        "\n",
        "calculateTransformerSentiment(\n",
        "  dfDados,\n",
        "  'transformerNlptown'\n",
        "  getNlptownTextAnalysis,\n",
        ")"
      ],
      "execution_count": null,
      "outputs": []
    },
    {
      "cell_type": "code",
      "metadata": {
        "id": "2bNUHYvPbK-5"
      },
      "source": [
        "classifier = pipeline('sentiment-analysis', model=\"aychang/roberta-base-imdb\")\n",
        "\n",
        "calculateTransformerSentiment(\n",
        "  dfDados,\n",
        "  'transformerRoberta'\n",
        "  getRobertaTextAnalysis,\n",
        ")"
      ],
      "execution_count": null,
      "outputs": []
    },
    {
      "cell_type": "code",
      "metadata": {
        "id": "UcMZhcG_ASKb"
      },
      "source": [
        "dfDados.to_csv('tsla_2019_process.csv')"
      ],
      "execution_count": null,
      "outputs": []
    }
  ]
}